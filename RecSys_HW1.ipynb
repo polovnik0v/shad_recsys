{
 "cells": [
  {
   "cell_type": "markdown",
   "id": "a00c6db1",
   "metadata": {},
   "source": [
    "# Метрики\n",
    "\n",
    "## Imports"
   ]
  },
  {
   "cell_type": "code",
   "execution_count": 1,
   "id": "0add2084",
   "metadata": {},
   "outputs": [
    {
     "name": "stdout",
     "output_type": "stream",
     "text": [
      "Requirement already satisfied: rectools in d:\\users\\nik_p\\anaconda3\\lib\\site-packages (0.6.0)\n",
      "Requirement already satisfied: attrs<24.0.0,>=19.1.0 in d:\\users\\nik_p\\anaconda3\\lib\\site-packages (from rectools) (22.1.0)\n",
      "Requirement already satisfied: implicit<0.8.0,>=0.7.1 in d:\\users\\nik_p\\anaconda3\\lib\\site-packages (from rectools) (0.7.2)\n",
      "Requirement already satisfied: numpy<2.0.0,>=1.22 in d:\\users\\nik_p\\anaconda3\\lib\\site-packages (from rectools) (1.24.3)\n",
      "Requirement already satisfied: pandas<3.0.0,>=1.5.0 in d:\\users\\nik_p\\anaconda3\\lib\\site-packages (from rectools) (1.5.3)\n",
      "Requirement already satisfied: scipy<1.13,>=1.10.1 in d:\\users\\nik_p\\anaconda3\\lib\\site-packages (from rectools) (1.11.1)\n",
      "Requirement already satisfied: tqdm<5.0.0,>=4.27.0 in d:\\users\\nik_p\\anaconda3\\lib\\site-packages (from rectools) (4.65.0)\n",
      "Requirement already satisfied: typeguard<5.0.0,>=4.1.0 in d:\\users\\nik_p\\anaconda3\\lib\\site-packages (from rectools) (4.3.0)\n",
      "Requirement already satisfied: threadpoolctl in d:\\users\\nik_p\\anaconda3\\lib\\site-packages (from implicit<0.8.0,>=0.7.1->rectools) (2.2.0)\n",
      "Requirement already satisfied: python-dateutil>=2.8.1 in d:\\users\\nik_p\\anaconda3\\lib\\site-packages (from pandas<3.0.0,>=1.5.0->rectools) (2.8.2)\n",
      "Requirement already satisfied: pytz>=2020.1 in d:\\users\\nik_p\\anaconda3\\lib\\site-packages (from pandas<3.0.0,>=1.5.0->rectools) (2023.3.post1)\n",
      "Requirement already satisfied: colorama in d:\\users\\nik_p\\anaconda3\\lib\\site-packages (from tqdm<5.0.0,>=4.27.0->rectools) (0.4.6)\n",
      "Requirement already satisfied: typing-extensions>=4.10.0 in d:\\users\\nik_p\\anaconda3\\lib\\site-packages (from typeguard<5.0.0,>=4.1.0->rectools) (4.10.0)\n",
      "Requirement already satisfied: six>=1.5 in d:\\users\\nik_p\\anaconda3\\lib\\site-packages (from python-dateutil>=2.8.1->pandas<3.0.0,>=1.5.0->rectools) (1.16.0)\n"
     ]
    }
   ],
   "source": [
    "!pip install rectools"
   ]
  },
  {
   "cell_type": "code",
   "execution_count": 2,
   "id": "14dec809",
   "metadata": {
    "ExecuteTime": {
     "end_time": "2022-11-16T13:16:59.822474Z",
     "start_time": "2022-11-16T13:16:58.134477Z"
    }
   },
   "outputs": [],
   "source": [
    "import pandas as pd\n",
    "import numpy as np\n",
    "\n",
    "from tqdm.auto import tqdm\n",
    "from rectools import Columns"
   ]
  },
  {
   "cell_type": "markdown",
   "id": "ee52e011-ad5e-437b-bde9-ee9d12401e9f",
   "metadata": {},
   "source": [
    "### Загрузим данные МТС Кион"
   ]
  },
  {
   "cell_type": "markdown",
   "id": "d9571f84-bb0c-4eec-8b40-feb6a692cbb2",
   "metadata": {},
   "source": [
    "Датасет необходимо скачать: https://ods.ai/competitions/competition-recsys-21/data\n",
    "\n",
    "Оттуда нужны файлы interactions.csv, items.csv и users.csv"
   ]
  },
  {
   "cell_type": "markdown",
   "id": "d8ef4507-4746-4ca9-ad11-47ba7124b389",
   "metadata": {},
   "source": [
    "### Зафиксируем random seed"
   ]
  },
  {
   "cell_type": "code",
   "execution_count": 3,
   "id": "e3551b5e",
   "metadata": {
    "ExecuteTime": {
     "end_time": "2022-11-16T13:16:59.838475Z",
     "start_time": "2022-11-16T13:16:59.825476Z"
    }
   },
   "outputs": [],
   "source": [
    "np.random.seed(23)"
   ]
  },
  {
   "cell_type": "markdown",
   "id": "d636a7d5",
   "metadata": {},
   "source": [
    "## Read data"
   ]
  },
  {
   "cell_type": "code",
   "execution_count": 4,
   "id": "8b021111",
   "metadata": {
    "ExecuteTime": {
     "end_time": "2022-11-16T13:17:02.540473Z",
     "start_time": "2022-11-16T13:16:59.841479Z"
    }
   },
   "outputs": [],
   "source": [
    "interactions = pd.read_csv('interactions.csv', parse_dates=['last_watch_dt'])\n",
    "\n",
    "interactions.rename(\n",
    "    columns={\n",
    "        'last_watch_dt': Columns.Datetime,\n",
    "        'total_dur': Columns.Weight\n",
    "    }, \n",
    "    inplace=True) \n"
   ]
  },
  {
   "cell_type": "code",
   "execution_count": 5,
   "id": "1170099f",
   "metadata": {
    "ExecuteTime": {
     "end_time": "2022-11-16T13:17:03.522473Z",
     "start_time": "2022-11-16T13:17:02.544478Z"
    }
   },
   "outputs": [],
   "source": [
    "users = pd.read_csv('users.csv')\n",
    "items = pd.read_csv('items.csv')"
   ]
  },
  {
   "cell_type": "code",
   "execution_count": 6,
   "id": "ebc85847",
   "metadata": {
    "ExecuteTime": {
     "end_time": "2022-11-16T13:17:03.553474Z",
     "start_time": "2022-11-16T13:17:03.525477Z"
    }
   },
   "outputs": [
    {
     "data": {
      "text/html": [
       "<div>\n",
       "<style scoped>\n",
       "    .dataframe tbody tr th:only-of-type {\n",
       "        vertical-align: middle;\n",
       "    }\n",
       "\n",
       "    .dataframe tbody tr th {\n",
       "        vertical-align: top;\n",
       "    }\n",
       "\n",
       "    .dataframe thead th {\n",
       "        text-align: right;\n",
       "    }\n",
       "</style>\n",
       "<table border=\"1\" class=\"dataframe\">\n",
       "  <thead>\n",
       "    <tr style=\"text-align: right;\">\n",
       "      <th></th>\n",
       "      <th>user_id</th>\n",
       "      <th>item_id</th>\n",
       "      <th>datetime</th>\n",
       "      <th>weight</th>\n",
       "      <th>watched_pct</th>\n",
       "    </tr>\n",
       "  </thead>\n",
       "  <tbody>\n",
       "    <tr>\n",
       "      <th>0</th>\n",
       "      <td>176549</td>\n",
       "      <td>9506</td>\n",
       "      <td>2021-05-11</td>\n",
       "      <td>4250</td>\n",
       "      <td>72.0</td>\n",
       "    </tr>\n",
       "    <tr>\n",
       "      <th>1</th>\n",
       "      <td>699317</td>\n",
       "      <td>1659</td>\n",
       "      <td>2021-05-29</td>\n",
       "      <td>8317</td>\n",
       "      <td>100.0</td>\n",
       "    </tr>\n",
       "    <tr>\n",
       "      <th>2</th>\n",
       "      <td>656683</td>\n",
       "      <td>7107</td>\n",
       "      <td>2021-05-09</td>\n",
       "      <td>10</td>\n",
       "      <td>0.0</td>\n",
       "    </tr>\n",
       "    <tr>\n",
       "      <th>3</th>\n",
       "      <td>864613</td>\n",
       "      <td>7638</td>\n",
       "      <td>2021-07-05</td>\n",
       "      <td>14483</td>\n",
       "      <td>100.0</td>\n",
       "    </tr>\n",
       "    <tr>\n",
       "      <th>4</th>\n",
       "      <td>964868</td>\n",
       "      <td>9506</td>\n",
       "      <td>2021-04-30</td>\n",
       "      <td>6725</td>\n",
       "      <td>100.0</td>\n",
       "    </tr>\n",
       "    <tr>\n",
       "      <th>5476246</th>\n",
       "      <td>648596</td>\n",
       "      <td>12225</td>\n",
       "      <td>2021-08-13</td>\n",
       "      <td>76</td>\n",
       "      <td>0.0</td>\n",
       "    </tr>\n",
       "    <tr>\n",
       "      <th>5476247</th>\n",
       "      <td>546862</td>\n",
       "      <td>9673</td>\n",
       "      <td>2021-04-13</td>\n",
       "      <td>2308</td>\n",
       "      <td>49.0</td>\n",
       "    </tr>\n",
       "    <tr>\n",
       "      <th>5476248</th>\n",
       "      <td>697262</td>\n",
       "      <td>15297</td>\n",
       "      <td>2021-08-20</td>\n",
       "      <td>18307</td>\n",
       "      <td>63.0</td>\n",
       "    </tr>\n",
       "    <tr>\n",
       "      <th>5476249</th>\n",
       "      <td>384202</td>\n",
       "      <td>16197</td>\n",
       "      <td>2021-04-19</td>\n",
       "      <td>6203</td>\n",
       "      <td>100.0</td>\n",
       "    </tr>\n",
       "    <tr>\n",
       "      <th>5476250</th>\n",
       "      <td>319709</td>\n",
       "      <td>4436</td>\n",
       "      <td>2021-08-15</td>\n",
       "      <td>3921</td>\n",
       "      <td>45.0</td>\n",
       "    </tr>\n",
       "  </tbody>\n",
       "</table>\n",
       "</div>"
      ],
      "text/plain": [
       "         user_id  item_id   datetime  weight  watched_pct\n",
       "0         176549     9506 2021-05-11    4250         72.0\n",
       "1         699317     1659 2021-05-29    8317        100.0\n",
       "2         656683     7107 2021-05-09      10          0.0\n",
       "3         864613     7638 2021-07-05   14483        100.0\n",
       "4         964868     9506 2021-04-30    6725        100.0\n",
       "5476246   648596    12225 2021-08-13      76          0.0\n",
       "5476247   546862     9673 2021-04-13    2308         49.0\n",
       "5476248   697262    15297 2021-08-20   18307         63.0\n",
       "5476249   384202    16197 2021-04-19    6203        100.0\n",
       "5476250   319709     4436 2021-08-15    3921         45.0"
      ]
     },
     "execution_count": 6,
     "metadata": {},
     "output_type": "execute_result"
    }
   ],
   "source": [
    "def headtail(df):\n",
    "    return pd.concat([df.head(), df.tail()])\n",
    "\n",
    "headtail(interactions)\n"
   ]
  },
  {
   "cell_type": "code",
   "execution_count": 7,
   "id": "5cc82806",
   "metadata": {
    "ExecuteTime": {
     "end_time": "2022-11-16T13:17:03.569476Z",
     "start_time": "2022-11-16T13:17:03.556474Z"
    }
   },
   "outputs": [
    {
     "name": "stdout",
     "output_type": "stream",
     "text": [
      "<class 'pandas.core.frame.DataFrame'>\n",
      "RangeIndex: 5476251 entries, 0 to 5476250\n",
      "Data columns (total 5 columns):\n",
      " #   Column       Dtype         \n",
      "---  ------       -----         \n",
      " 0   user_id      int64         \n",
      " 1   item_id      int64         \n",
      " 2   datetime     datetime64[ns]\n",
      " 3   weight       int64         \n",
      " 4   watched_pct  float64       \n",
      "dtypes: datetime64[ns](1), float64(1), int64(3)\n",
      "memory usage: 208.9 MB\n"
     ]
    }
   ],
   "source": [
    "interactions.info(memory_usage='deep')"
   ]
  },
  {
   "cell_type": "markdown",
   "id": "ff9a7f8e",
   "metadata": {},
   "source": [
    "Выделим небольшой кусок из данных, чтобы не слишком страдать"
   ]
  },
  {
   "cell_type": "code",
   "execution_count": 8,
   "id": "5b28d22e",
   "metadata": {
    "ExecuteTime": {
     "end_time": "2022-11-16T13:17:03.617474Z",
     "start_time": "2022-11-16T13:17:03.571473Z"
    }
   },
   "outputs": [
    {
     "data": {
      "text/html": [
       "<div>\n",
       "<style scoped>\n",
       "    .dataframe tbody tr th:only-of-type {\n",
       "        vertical-align: middle;\n",
       "    }\n",
       "\n",
       "    .dataframe tbody tr th {\n",
       "        vertical-align: top;\n",
       "    }\n",
       "\n",
       "    .dataframe thead th {\n",
       "        text-align: right;\n",
       "    }\n",
       "</style>\n",
       "<table border=\"1\" class=\"dataframe\">\n",
       "  <thead>\n",
       "    <tr style=\"text-align: right;\">\n",
       "      <th></th>\n",
       "      <th>user_id</th>\n",
       "      <th>item_id</th>\n",
       "    </tr>\n",
       "  </thead>\n",
       "  <tbody>\n",
       "    <tr>\n",
       "      <th>0</th>\n",
       "      <td>57607</td>\n",
       "      <td>4151</td>\n",
       "    </tr>\n",
       "    <tr>\n",
       "      <th>1</th>\n",
       "      <td>57607</td>\n",
       "      <td>10440</td>\n",
       "    </tr>\n",
       "    <tr>\n",
       "      <th>2</th>\n",
       "      <td>57607</td>\n",
       "      <td>13865</td>\n",
       "    </tr>\n",
       "    <tr>\n",
       "      <th>3</th>\n",
       "      <td>70720</td>\n",
       "      <td>4880</td>\n",
       "    </tr>\n",
       "    <tr>\n",
       "      <th>4</th>\n",
       "      <td>70720</td>\n",
       "      <td>4881</td>\n",
       "    </tr>\n",
       "    <tr>\n",
       "      <th>5</th>\n",
       "      <td>70720</td>\n",
       "      <td>6327</td>\n",
       "    </tr>\n",
       "    <tr>\n",
       "      <th>6</th>\n",
       "      <td>403227</td>\n",
       "      <td>6353</td>\n",
       "    </tr>\n",
       "    <tr>\n",
       "      <th>7</th>\n",
       "      <td>403227</td>\n",
       "      <td>1736</td>\n",
       "    </tr>\n",
       "    <tr>\n",
       "      <th>8</th>\n",
       "      <td>403227</td>\n",
       "      <td>5336</td>\n",
       "    </tr>\n",
       "    <tr>\n",
       "      <th>9</th>\n",
       "      <td>403227</td>\n",
       "      <td>181</td>\n",
       "    </tr>\n",
       "  </tbody>\n",
       "</table>\n",
       "</div>"
      ],
      "text/plain": [
       "   user_id  item_id\n",
       "0    57607     4151\n",
       "1    57607    10440\n",
       "2    57607    13865\n",
       "3    70720     4880\n",
       "4    70720     4881\n",
       "5    70720     6327\n",
       "6   403227     6353\n",
       "7   403227     1736\n",
       "8   403227     5336\n",
       "9   403227      181"
      ]
     },
     "execution_count": 8,
     "metadata": {},
     "output_type": "execute_result"
    }
   ],
   "source": [
    "sample_users = [57607, 403227, 70720]\n",
    "df = interactions[interactions[Columns.User].isin(sample_users)].sort_values(\"user_id\").reset_index(drop=True)\n",
    "del df[Columns.Datetime], df[Columns.Weight], df['watched_pct']\n",
    "df\n"
   ]
  },
  {
   "cell_type": "code",
   "execution_count": 9,
   "id": "c1923b07",
   "metadata": {
    "ExecuteTime": {
     "end_time": "2022-11-16T13:17:03.632473Z",
     "start_time": "2022-11-16T13:17:03.620473Z"
    }
   },
   "outputs": [
    {
     "name": "stdout",
     "output_type": "stream",
     "text": [
      "Users [ 57607  70720 403227]\n",
      "Items [ 4151 10440 13865  4880  4881  6327  6353  1736  5336   181]\n"
     ]
    }
   ],
   "source": [
    "print('Users', df[Columns.User].unique())\n",
    "sample_items = df[Columns.Item].unique()\n",
    "print('Items', sample_items)\n"
   ]
  },
  {
   "cell_type": "markdown",
   "id": "cac10ba7",
   "metadata": {},
   "source": [
    "## Regression"
   ]
  },
  {
   "cell_type": "markdown",
   "id": "a221215f",
   "metadata": {},
   "source": [
    "С регрессией все относительно просто. По (user, item) мы знаем таргет (рейтинг чаще всего) и по такой же паре предсказываем его"
   ]
  },
  {
   "cell_type": "code",
   "execution_count": 10,
   "id": "6de45176",
   "metadata": {
    "ExecuteTime": {
     "end_time": "2022-11-16T13:17:03.648474Z",
     "start_time": "2022-11-16T13:17:03.635475Z"
    }
   },
   "outputs": [
    {
     "data": {
      "text/html": [
       "<div>\n",
       "<style scoped>\n",
       "    .dataframe tbody tr th:only-of-type {\n",
       "        vertical-align: middle;\n",
       "    }\n",
       "\n",
       "    .dataframe tbody tr th {\n",
       "        vertical-align: top;\n",
       "    }\n",
       "\n",
       "    .dataframe thead th {\n",
       "        text-align: right;\n",
       "    }\n",
       "</style>\n",
       "<table border=\"1\" class=\"dataframe\">\n",
       "  <thead>\n",
       "    <tr style=\"text-align: right;\">\n",
       "      <th></th>\n",
       "      <th>user_id</th>\n",
       "      <th>item_id</th>\n",
       "      <th>target</th>\n",
       "      <th>predict</th>\n",
       "    </tr>\n",
       "  </thead>\n",
       "  <tbody>\n",
       "    <tr>\n",
       "      <th>0</th>\n",
       "      <td>57607</td>\n",
       "      <td>4151</td>\n",
       "      <td>5</td>\n",
       "      <td>2.658958</td>\n",
       "    </tr>\n",
       "    <tr>\n",
       "      <th>1</th>\n",
       "      <td>57607</td>\n",
       "      <td>10440</td>\n",
       "      <td>3</td>\n",
       "      <td>4.500017</td>\n",
       "    </tr>\n",
       "    <tr>\n",
       "      <th>2</th>\n",
       "      <td>57607</td>\n",
       "      <td>13865</td>\n",
       "      <td>4</td>\n",
       "      <td>3.280296</td>\n",
       "    </tr>\n",
       "    <tr>\n",
       "      <th>3</th>\n",
       "      <td>70720</td>\n",
       "      <td>4880</td>\n",
       "      <td>5</td>\n",
       "      <td>4.263719</td>\n",
       "    </tr>\n",
       "    <tr>\n",
       "      <th>4</th>\n",
       "      <td>70720</td>\n",
       "      <td>4881</td>\n",
       "      <td>3</td>\n",
       "      <td>4.990597</td>\n",
       "    </tr>\n",
       "    <tr>\n",
       "      <th>5</th>\n",
       "      <td>70720</td>\n",
       "      <td>6327</td>\n",
       "      <td>4</td>\n",
       "      <td>2.000249</td>\n",
       "    </tr>\n",
       "    <tr>\n",
       "      <th>6</th>\n",
       "      <td>403227</td>\n",
       "      <td>6353</td>\n",
       "      <td>3</td>\n",
       "      <td>4.927865</td>\n",
       "    </tr>\n",
       "    <tr>\n",
       "      <th>7</th>\n",
       "      <td>403227</td>\n",
       "      <td>1736</td>\n",
       "      <td>5</td>\n",
       "      <td>3.257364</td>\n",
       "    </tr>\n",
       "    <tr>\n",
       "      <th>8</th>\n",
       "      <td>403227</td>\n",
       "      <td>5336</td>\n",
       "      <td>4</td>\n",
       "      <td>4.044672</td>\n",
       "    </tr>\n",
       "    <tr>\n",
       "      <th>9</th>\n",
       "      <td>403227</td>\n",
       "      <td>181</td>\n",
       "      <td>5</td>\n",
       "      <td>4.257889</td>\n",
       "    </tr>\n",
       "  </tbody>\n",
       "</table>\n",
       "</div>"
      ],
      "text/plain": [
       "   user_id  item_id  target   predict\n",
       "0    57607     4151       5  2.658958\n",
       "1    57607    10440       3  4.500017\n",
       "2    57607    13865       4  3.280296\n",
       "3    70720     4880       5  4.263719\n",
       "4    70720     4881       3  4.990597\n",
       "5    70720     6327       4  2.000249\n",
       "6   403227     6353       3  4.927865\n",
       "7   403227     1736       5  3.257364\n",
       "8   403227     5336       4  4.044672\n",
       "9   403227      181       5  4.257889"
      ]
     },
     "execution_count": 10,
     "metadata": {},
     "output_type": "execute_result"
    }
   ],
   "source": [
    "df['target'] = np.random.choice([3, 4, 5], df.shape[0])\n",
    "df['predict'] = np.random.rand(df.shape[0]) * 3 + 2\n",
    "df\n"
   ]
  },
  {
   "cell_type": "markdown",
   "id": "5eab0e11",
   "metadata": {},
   "source": [
    "Общая оценка"
   ]
  },
  {
   "cell_type": "code",
   "execution_count": 11,
   "id": "51351ab5",
   "metadata": {
    "ExecuteTime": {
     "end_time": "2022-11-16T13:17:03.663474Z",
     "start_time": "2022-11-16T13:17:03.650474Z"
    }
   },
   "outputs": [
    {
     "name": "stdout",
     "output_type": "stream",
     "text": [
      "1.374467645324227\n"
     ]
    }
   ],
   "source": [
    "mae = (df['target'] - df['predict']).abs().mean()\n",
    "print(mae)"
   ]
  },
  {
   "cell_type": "markdown",
   "id": "0f057a3b",
   "metadata": {},
   "source": [
    "Оценка по пользователю с последюущим усреднением"
   ]
  },
  {
   "cell_type": "code",
   "execution_count": 12,
   "id": "b6bce9b4",
   "metadata": {
    "ExecuteTime": {
     "end_time": "2022-11-16T13:17:03.679529Z",
     "start_time": "2022-11-16T13:17:03.670474Z"
    }
   },
   "outputs": [
    {
     "name": "stdout",
     "output_type": "stream",
     "text": [
      "1.4033728201405007\n"
     ]
    },
    {
     "data": {
      "text/plain": [
       "user_id\n",
       "57607     1.520254\n",
       "70720     1.575543\n",
       "403227    1.114321\n",
       "Name: diff, dtype: float64"
      ]
     },
     "execution_count": 12,
     "metadata": {},
     "output_type": "execute_result"
    }
   ],
   "source": [
    "df['diff'] = (df['target'] - df['predict']).abs()\n",
    "average_mae = df.groupby(Columns.User)['diff'].mean()\n",
    "print(average_mae.mean())\n",
    "average_mae"
   ]
  },
  {
   "cell_type": "markdown",
   "id": "0aa59b8a",
   "metadata": {},
   "source": [
    "Видно, что в данном случае метрики близки к друг другу, но это не всегда так"
   ]
  },
  {
   "cell_type": "code",
   "execution_count": 13,
   "id": "878224ff",
   "metadata": {
    "ExecuteTime": {
     "end_time": "2022-11-16T13:17:03.695472Z",
     "start_time": "2022-11-16T13:17:03.682474Z"
    }
   },
   "outputs": [],
   "source": [
    "del df['target'], df['predict'], df['diff']"
   ]
  },
  {
   "cell_type": "markdown",
   "id": "89997f8e",
   "metadata": {},
   "source": [
    "## Classification"
   ]
  },
  {
   "cell_type": "markdown",
   "id": "70b402f4",
   "metadata": {},
   "source": [
    "Сгенерируем случайные рекомендации."
   ]
  },
  {
   "cell_type": "code",
   "execution_count": 14,
   "id": "98c0b7d8",
   "metadata": {
    "ExecuteTime": {
     "end_time": "2022-11-16T13:17:03.711473Z",
     "start_time": "2022-11-16T13:17:03.697474Z"
    }
   },
   "outputs": [
    {
     "data": {
      "text/plain": [
       "array([[ 4151,  6353, 13865,  6327,  4880],\n",
       "       [  181,  6327,  4151,  1736,  4881],\n",
       "       [10440,  4880,  4881, 13865,  6327]], dtype=int64)"
      ]
     },
     "execution_count": 14,
     "metadata": {},
     "output_type": "execute_result"
    }
   ],
   "source": [
    "top_k = 5\n",
    "recs = np.array([\n",
    "    np.random.choice(sample_items, top_k, replace=False),\n",
    "    np.random.choice(sample_items, top_k, replace=False),\n",
    "    np.random.choice(sample_items, top_k, replace=False),\n",
    "])\n",
    "recs"
   ]
  },
  {
   "cell_type": "markdown",
   "id": "b7945394",
   "metadata": {},
   "source": [
    "Преобразуем в длинный датафрейм"
   ]
  },
  {
   "cell_type": "code",
   "execution_count": 15,
   "id": "2aaad704",
   "metadata": {
    "ExecuteTime": {
     "end_time": "2022-11-16T13:17:03.726473Z",
     "start_time": "2022-11-16T13:17:03.714475Z"
    }
   },
   "outputs": [
    {
     "data": {
      "text/html": [
       "<div>\n",
       "<style scoped>\n",
       "    .dataframe tbody tr th:only-of-type {\n",
       "        vertical-align: middle;\n",
       "    }\n",
       "\n",
       "    .dataframe tbody tr th {\n",
       "        vertical-align: top;\n",
       "    }\n",
       "\n",
       "    .dataframe thead th {\n",
       "        text-align: right;\n",
       "    }\n",
       "</style>\n",
       "<table border=\"1\" class=\"dataframe\">\n",
       "  <thead>\n",
       "    <tr style=\"text-align: right;\">\n",
       "      <th></th>\n",
       "      <th>user_id</th>\n",
       "      <th>item_id</th>\n",
       "    </tr>\n",
       "  </thead>\n",
       "  <tbody>\n",
       "    <tr>\n",
       "      <th>0</th>\n",
       "      <td>57607</td>\n",
       "      <td>4151</td>\n",
       "    </tr>\n",
       "    <tr>\n",
       "      <th>1</th>\n",
       "      <td>57607</td>\n",
       "      <td>6353</td>\n",
       "    </tr>\n",
       "    <tr>\n",
       "      <th>2</th>\n",
       "      <td>57607</td>\n",
       "      <td>13865</td>\n",
       "    </tr>\n",
       "    <tr>\n",
       "      <th>3</th>\n",
       "      <td>57607</td>\n",
       "      <td>6327</td>\n",
       "    </tr>\n",
       "    <tr>\n",
       "      <th>4</th>\n",
       "      <td>57607</td>\n",
       "      <td>4880</td>\n",
       "    </tr>\n",
       "    <tr>\n",
       "      <th>5</th>\n",
       "      <td>403227</td>\n",
       "      <td>181</td>\n",
       "    </tr>\n",
       "    <tr>\n",
       "      <th>6</th>\n",
       "      <td>403227</td>\n",
       "      <td>6327</td>\n",
       "    </tr>\n",
       "    <tr>\n",
       "      <th>7</th>\n",
       "      <td>403227</td>\n",
       "      <td>4151</td>\n",
       "    </tr>\n",
       "    <tr>\n",
       "      <th>8</th>\n",
       "      <td>403227</td>\n",
       "      <td>1736</td>\n",
       "    </tr>\n",
       "    <tr>\n",
       "      <th>9</th>\n",
       "      <td>403227</td>\n",
       "      <td>4881</td>\n",
       "    </tr>\n",
       "    <tr>\n",
       "      <th>10</th>\n",
       "      <td>70720</td>\n",
       "      <td>10440</td>\n",
       "    </tr>\n",
       "    <tr>\n",
       "      <th>11</th>\n",
       "      <td>70720</td>\n",
       "      <td>4880</td>\n",
       "    </tr>\n",
       "    <tr>\n",
       "      <th>12</th>\n",
       "      <td>70720</td>\n",
       "      <td>4881</td>\n",
       "    </tr>\n",
       "    <tr>\n",
       "      <th>13</th>\n",
       "      <td>70720</td>\n",
       "      <td>13865</td>\n",
       "    </tr>\n",
       "    <tr>\n",
       "      <th>14</th>\n",
       "      <td>70720</td>\n",
       "      <td>6327</td>\n",
       "    </tr>\n",
       "  </tbody>\n",
       "</table>\n",
       "</div>"
      ],
      "text/plain": [
       "    user_id  item_id\n",
       "0     57607     4151\n",
       "1     57607     6353\n",
       "2     57607    13865\n",
       "3     57607     6327\n",
       "4     57607     4880\n",
       "5    403227      181\n",
       "6    403227     6327\n",
       "7    403227     4151\n",
       "8    403227     1736\n",
       "9    403227     4881\n",
       "10    70720    10440\n",
       "11    70720     4880\n",
       "12    70720     4881\n",
       "13    70720    13865\n",
       "14    70720     6327"
      ]
     },
     "execution_count": 15,
     "metadata": {},
     "output_type": "execute_result"
    }
   ],
   "source": [
    "df_recs = pd.DataFrame({\n",
    "    Columns.User: np.repeat(sample_users, top_k),\n",
    "    Columns.Item: recs.ravel()\n",
    "})\n",
    "df_recs\n"
   ]
  },
  {
   "cell_type": "code",
   "execution_count": 16,
   "id": "82f64f64",
   "metadata": {
    "ExecuteTime": {
     "end_time": "2022-11-16T13:17:03.741474Z",
     "start_time": "2022-11-16T13:17:03.728475Z"
    }
   },
   "outputs": [
    {
     "data": {
      "text/html": [
       "<div>\n",
       "<style scoped>\n",
       "    .dataframe tbody tr th:only-of-type {\n",
       "        vertical-align: middle;\n",
       "    }\n",
       "\n",
       "    .dataframe tbody tr th {\n",
       "        vertical-align: top;\n",
       "    }\n",
       "\n",
       "    .dataframe thead th {\n",
       "        text-align: right;\n",
       "    }\n",
       "</style>\n",
       "<table border=\"1\" class=\"dataframe\">\n",
       "  <thead>\n",
       "    <tr style=\"text-align: right;\">\n",
       "      <th></th>\n",
       "      <th>user_id</th>\n",
       "      <th>item_id</th>\n",
       "      <th>rank</th>\n",
       "    </tr>\n",
       "  </thead>\n",
       "  <tbody>\n",
       "    <tr>\n",
       "      <th>0</th>\n",
       "      <td>57607</td>\n",
       "      <td>4151</td>\n",
       "      <td>1</td>\n",
       "    </tr>\n",
       "    <tr>\n",
       "      <th>1</th>\n",
       "      <td>57607</td>\n",
       "      <td>6353</td>\n",
       "      <td>2</td>\n",
       "    </tr>\n",
       "    <tr>\n",
       "      <th>2</th>\n",
       "      <td>57607</td>\n",
       "      <td>13865</td>\n",
       "      <td>3</td>\n",
       "    </tr>\n",
       "    <tr>\n",
       "      <th>3</th>\n",
       "      <td>57607</td>\n",
       "      <td>6327</td>\n",
       "      <td>4</td>\n",
       "    </tr>\n",
       "    <tr>\n",
       "      <th>4</th>\n",
       "      <td>57607</td>\n",
       "      <td>4880</td>\n",
       "      <td>5</td>\n",
       "    </tr>\n",
       "    <tr>\n",
       "      <th>5</th>\n",
       "      <td>403227</td>\n",
       "      <td>181</td>\n",
       "      <td>1</td>\n",
       "    </tr>\n",
       "    <tr>\n",
       "      <th>6</th>\n",
       "      <td>403227</td>\n",
       "      <td>6327</td>\n",
       "      <td>2</td>\n",
       "    </tr>\n",
       "    <tr>\n",
       "      <th>7</th>\n",
       "      <td>403227</td>\n",
       "      <td>4151</td>\n",
       "      <td>3</td>\n",
       "    </tr>\n",
       "    <tr>\n",
       "      <th>8</th>\n",
       "      <td>403227</td>\n",
       "      <td>1736</td>\n",
       "      <td>4</td>\n",
       "    </tr>\n",
       "    <tr>\n",
       "      <th>9</th>\n",
       "      <td>403227</td>\n",
       "      <td>4881</td>\n",
       "      <td>5</td>\n",
       "    </tr>\n",
       "    <tr>\n",
       "      <th>10</th>\n",
       "      <td>70720</td>\n",
       "      <td>10440</td>\n",
       "      <td>1</td>\n",
       "    </tr>\n",
       "    <tr>\n",
       "      <th>11</th>\n",
       "      <td>70720</td>\n",
       "      <td>4880</td>\n",
       "      <td>2</td>\n",
       "    </tr>\n",
       "    <tr>\n",
       "      <th>12</th>\n",
       "      <td>70720</td>\n",
       "      <td>4881</td>\n",
       "      <td>3</td>\n",
       "    </tr>\n",
       "    <tr>\n",
       "      <th>13</th>\n",
       "      <td>70720</td>\n",
       "      <td>13865</td>\n",
       "      <td>4</td>\n",
       "    </tr>\n",
       "    <tr>\n",
       "      <th>14</th>\n",
       "      <td>70720</td>\n",
       "      <td>6327</td>\n",
       "      <td>5</td>\n",
       "    </tr>\n",
       "  </tbody>\n",
       "</table>\n",
       "</div>"
      ],
      "text/plain": [
       "    user_id  item_id  rank\n",
       "0     57607     4151     1\n",
       "1     57607     6353     2\n",
       "2     57607    13865     3\n",
       "3     57607     6327     4\n",
       "4     57607     4880     5\n",
       "5    403227      181     1\n",
       "6    403227     6327     2\n",
       "7    403227     4151     3\n",
       "8    403227     1736     4\n",
       "9    403227     4881     5\n",
       "10    70720    10440     1\n",
       "11    70720     4880     2\n",
       "12    70720     4881     3\n",
       "13    70720    13865     4\n",
       "14    70720     6327     5"
      ]
     },
     "execution_count": 16,
     "metadata": {},
     "output_type": "execute_result"
    }
   ],
   "source": [
    "df_recs[Columns.Rank] = df_recs.groupby(Columns.User).cumcount() + 1\n",
    "df_recs"
   ]
  },
  {
   "cell_type": "markdown",
   "id": "919c480a",
   "metadata": {},
   "source": [
    "Ключевой момент. Именно ради него преобразовывали данные и именно это позволяет считать метрики быстрее."
   ]
  },
  {
   "cell_type": "code",
   "execution_count": 17,
   "id": "7014b438",
   "metadata": {
    "ExecuteTime": {
     "end_time": "2022-11-16T13:17:03.771473Z",
     "start_time": "2022-11-16T13:17:03.743474Z"
    }
   },
   "outputs": [
    {
     "data": {
      "text/html": [
       "<div>\n",
       "<style scoped>\n",
       "    .dataframe tbody tr th:only-of-type {\n",
       "        vertical-align: middle;\n",
       "    }\n",
       "\n",
       "    .dataframe tbody tr th {\n",
       "        vertical-align: top;\n",
       "    }\n",
       "\n",
       "    .dataframe thead th {\n",
       "        text-align: right;\n",
       "    }\n",
       "</style>\n",
       "<table border=\"1\" class=\"dataframe\">\n",
       "  <thead>\n",
       "    <tr style=\"text-align: right;\">\n",
       "      <th></th>\n",
       "      <th>user_id</th>\n",
       "      <th>item_id</th>\n",
       "      <th>rank</th>\n",
       "    </tr>\n",
       "  </thead>\n",
       "  <tbody>\n",
       "    <tr>\n",
       "      <th>0</th>\n",
       "      <td>57607</td>\n",
       "      <td>4151</td>\n",
       "      <td>1.0</td>\n",
       "    </tr>\n",
       "    <tr>\n",
       "      <th>2</th>\n",
       "      <td>57607</td>\n",
       "      <td>13865</td>\n",
       "      <td>3.0</td>\n",
       "    </tr>\n",
       "    <tr>\n",
       "      <th>1</th>\n",
       "      <td>57607</td>\n",
       "      <td>10440</td>\n",
       "      <td>NaN</td>\n",
       "    </tr>\n",
       "    <tr>\n",
       "      <th>3</th>\n",
       "      <td>70720</td>\n",
       "      <td>4880</td>\n",
       "      <td>2.0</td>\n",
       "    </tr>\n",
       "    <tr>\n",
       "      <th>4</th>\n",
       "      <td>70720</td>\n",
       "      <td>4881</td>\n",
       "      <td>3.0</td>\n",
       "    </tr>\n",
       "    <tr>\n",
       "      <th>5</th>\n",
       "      <td>70720</td>\n",
       "      <td>6327</td>\n",
       "      <td>5.0</td>\n",
       "    </tr>\n",
       "    <tr>\n",
       "      <th>9</th>\n",
       "      <td>403227</td>\n",
       "      <td>181</td>\n",
       "      <td>1.0</td>\n",
       "    </tr>\n",
       "    <tr>\n",
       "      <th>7</th>\n",
       "      <td>403227</td>\n",
       "      <td>1736</td>\n",
       "      <td>4.0</td>\n",
       "    </tr>\n",
       "    <tr>\n",
       "      <th>6</th>\n",
       "      <td>403227</td>\n",
       "      <td>6353</td>\n",
       "      <td>NaN</td>\n",
       "    </tr>\n",
       "    <tr>\n",
       "      <th>8</th>\n",
       "      <td>403227</td>\n",
       "      <td>5336</td>\n",
       "      <td>NaN</td>\n",
       "    </tr>\n",
       "  </tbody>\n",
       "</table>\n",
       "</div>"
      ],
      "text/plain": [
       "   user_id  item_id  rank\n",
       "0    57607     4151   1.0\n",
       "2    57607    13865   3.0\n",
       "1    57607    10440   NaN\n",
       "3    70720     4880   2.0\n",
       "4    70720     4881   3.0\n",
       "5    70720     6327   5.0\n",
       "9   403227      181   1.0\n",
       "7   403227     1736   4.0\n",
       "6   403227     6353   NaN\n",
       "8   403227     5336   NaN"
      ]
     },
     "execution_count": 17,
     "metadata": {},
     "output_type": "execute_result"
    }
   ],
   "source": [
    "df_recs = df.merge(df_recs, how='left', left_on=Columns.UserItem, right_on=Columns.UserItem)\n",
    "df_recs = df_recs.sort_values(by=[Columns.User, Columns.Rank])\n",
    "df_recs"
   ]
  },
  {
   "cell_type": "markdown",
   "id": "cb5a6c12",
   "metadata": {},
   "source": [
    "### Precision@K"
   ]
  },
  {
   "cell_type": "code",
   "execution_count": 18,
   "id": "d4f9efb1",
   "metadata": {
    "ExecuteTime": {
     "end_time": "2022-11-16T13:17:03.787474Z",
     "start_time": "2022-11-16T13:17:03.774473Z"
    }
   },
   "outputs": [
    {
     "data": {
      "text/html": [
       "<div>\n",
       "<style scoped>\n",
       "    .dataframe tbody tr th:only-of-type {\n",
       "        vertical-align: middle;\n",
       "    }\n",
       "\n",
       "    .dataframe tbody tr th {\n",
       "        vertical-align: top;\n",
       "    }\n",
       "\n",
       "    .dataframe thead th {\n",
       "        text-align: right;\n",
       "    }\n",
       "</style>\n",
       "<table border=\"1\" class=\"dataframe\">\n",
       "  <thead>\n",
       "    <tr style=\"text-align: right;\">\n",
       "      <th></th>\n",
       "      <th>user_id</th>\n",
       "      <th>item_id</th>\n",
       "      <th>rank</th>\n",
       "      <th>TP@5</th>\n",
       "    </tr>\n",
       "  </thead>\n",
       "  <tbody>\n",
       "    <tr>\n",
       "      <th>0</th>\n",
       "      <td>57607</td>\n",
       "      <td>4151</td>\n",
       "      <td>1.0</td>\n",
       "      <td>True</td>\n",
       "    </tr>\n",
       "    <tr>\n",
       "      <th>2</th>\n",
       "      <td>57607</td>\n",
       "      <td>13865</td>\n",
       "      <td>3.0</td>\n",
       "      <td>True</td>\n",
       "    </tr>\n",
       "    <tr>\n",
       "      <th>1</th>\n",
       "      <td>57607</td>\n",
       "      <td>10440</td>\n",
       "      <td>NaN</td>\n",
       "      <td>False</td>\n",
       "    </tr>\n",
       "    <tr>\n",
       "      <th>3</th>\n",
       "      <td>70720</td>\n",
       "      <td>4880</td>\n",
       "      <td>2.0</td>\n",
       "      <td>True</td>\n",
       "    </tr>\n",
       "    <tr>\n",
       "      <th>4</th>\n",
       "      <td>70720</td>\n",
       "      <td>4881</td>\n",
       "      <td>3.0</td>\n",
       "      <td>True</td>\n",
       "    </tr>\n",
       "    <tr>\n",
       "      <th>5</th>\n",
       "      <td>70720</td>\n",
       "      <td>6327</td>\n",
       "      <td>5.0</td>\n",
       "      <td>True</td>\n",
       "    </tr>\n",
       "    <tr>\n",
       "      <th>9</th>\n",
       "      <td>403227</td>\n",
       "      <td>181</td>\n",
       "      <td>1.0</td>\n",
       "      <td>True</td>\n",
       "    </tr>\n",
       "    <tr>\n",
       "      <th>7</th>\n",
       "      <td>403227</td>\n",
       "      <td>1736</td>\n",
       "      <td>4.0</td>\n",
       "      <td>True</td>\n",
       "    </tr>\n",
       "    <tr>\n",
       "      <th>6</th>\n",
       "      <td>403227</td>\n",
       "      <td>6353</td>\n",
       "      <td>NaN</td>\n",
       "      <td>False</td>\n",
       "    </tr>\n",
       "    <tr>\n",
       "      <th>8</th>\n",
       "      <td>403227</td>\n",
       "      <td>5336</td>\n",
       "      <td>NaN</td>\n",
       "      <td>False</td>\n",
       "    </tr>\n",
       "  </tbody>\n",
       "</table>\n",
       "</div>"
      ],
      "text/plain": [
       "   user_id  item_id  rank   TP@5\n",
       "0    57607     4151   1.0   True\n",
       "2    57607    13865   3.0   True\n",
       "1    57607    10440   NaN  False\n",
       "3    70720     4880   2.0   True\n",
       "4    70720     4881   3.0   True\n",
       "5    70720     6327   5.0   True\n",
       "9   403227      181   1.0   True\n",
       "7   403227     1736   4.0   True\n",
       "6   403227     6353   NaN  False\n",
       "8   403227     5336   NaN  False"
      ]
     },
     "execution_count": 18,
     "metadata": {},
     "output_type": "execute_result"
    }
   ],
   "source": [
    "df_recs[f'TP@5'] = df_recs['rank'] <= 5\n",
    "df_recs"
   ]
  },
  {
   "cell_type": "code",
   "execution_count": 19,
   "id": "dd7c9237",
   "metadata": {
    "ExecuteTime": {
     "end_time": "2022-11-16T13:17:03.803474Z",
     "start_time": "2022-11-16T13:17:03.790477Z"
    }
   },
   "outputs": [
    {
     "data": {
      "text/html": [
       "<div>\n",
       "<style scoped>\n",
       "    .dataframe tbody tr th:only-of-type {\n",
       "        vertical-align: middle;\n",
       "    }\n",
       "\n",
       "    .dataframe tbody tr th {\n",
       "        vertical-align: top;\n",
       "    }\n",
       "\n",
       "    .dataframe thead th {\n",
       "        text-align: right;\n",
       "    }\n",
       "</style>\n",
       "<table border=\"1\" class=\"dataframe\">\n",
       "  <thead>\n",
       "    <tr style=\"text-align: right;\">\n",
       "      <th></th>\n",
       "      <th>user_id</th>\n",
       "      <th>item_id</th>\n",
       "      <th>rank</th>\n",
       "      <th>TP@5</th>\n",
       "    </tr>\n",
       "  </thead>\n",
       "  <tbody>\n",
       "    <tr>\n",
       "      <th>0</th>\n",
       "      <td>57607</td>\n",
       "      <td>4151</td>\n",
       "      <td>1.0</td>\n",
       "      <td>True</td>\n",
       "    </tr>\n",
       "    <tr>\n",
       "      <th>2</th>\n",
       "      <td>57607</td>\n",
       "      <td>13865</td>\n",
       "      <td>3.0</td>\n",
       "      <td>True</td>\n",
       "    </tr>\n",
       "    <tr>\n",
       "      <th>3</th>\n",
       "      <td>70720</td>\n",
       "      <td>4880</td>\n",
       "      <td>2.0</td>\n",
       "      <td>True</td>\n",
       "    </tr>\n",
       "    <tr>\n",
       "      <th>4</th>\n",
       "      <td>70720</td>\n",
       "      <td>4881</td>\n",
       "      <td>3.0</td>\n",
       "      <td>True</td>\n",
       "    </tr>\n",
       "    <tr>\n",
       "      <th>5</th>\n",
       "      <td>70720</td>\n",
       "      <td>6327</td>\n",
       "      <td>5.0</td>\n",
       "      <td>True</td>\n",
       "    </tr>\n",
       "    <tr>\n",
       "      <th>9</th>\n",
       "      <td>403227</td>\n",
       "      <td>181</td>\n",
       "      <td>1.0</td>\n",
       "      <td>True</td>\n",
       "    </tr>\n",
       "    <tr>\n",
       "      <th>7</th>\n",
       "      <td>403227</td>\n",
       "      <td>1736</td>\n",
       "      <td>4.0</td>\n",
       "      <td>True</td>\n",
       "    </tr>\n",
       "  </tbody>\n",
       "</table>\n",
       "</div>"
      ],
      "text/plain": [
       "   user_id  item_id  rank  TP@5\n",
       "0    57607     4151   1.0  True\n",
       "2    57607    13865   3.0  True\n",
       "3    70720     4880   2.0  True\n",
       "4    70720     4881   3.0  True\n",
       "5    70720     6327   5.0  True\n",
       "9   403227      181   1.0  True\n",
       "7   403227     1736   4.0  True"
      ]
     },
     "execution_count": 19,
     "metadata": {},
     "output_type": "execute_result"
    }
   ],
   "source": [
    "df_recs[df_recs[Columns.Rank].notnull()]"
   ]
  },
  {
   "cell_type": "markdown",
   "id": "7569f5e0",
   "metadata": {
    "ExecuteTime": {
     "end_time": "2022-11-15T15:26:25.757836Z",
     "start_time": "2022-11-15T15:26:25.738834Z"
    }
   },
   "source": [
    "Посчитаем вручную Precision@5 (усредняем по юзерам): (2/5 + 3/5 + 2/5) / 3"
   ]
  },
  {
   "cell_type": "code",
   "execution_count": 20,
   "id": "e65bb1a5",
   "metadata": {},
   "outputs": [
    {
     "data": {
      "text/plain": [
       "0.4666666666666666"
      ]
     },
     "execution_count": 20,
     "metadata": {},
     "output_type": "execute_result"
    }
   ],
   "source": [
    "(2/5 + 3/5 + 2/5) / 3"
   ]
  },
  {
   "cell_type": "markdown",
   "id": "9d09f66a",
   "metadata": {},
   "source": [
    "Посчитаем через groupby"
   ]
  },
  {
   "cell_type": "code",
   "execution_count": 21,
   "id": "d3c0c214",
   "metadata": {
    "ExecuteTime": {
     "end_time": "2022-11-16T13:17:03.819474Z",
     "start_time": "2022-11-16T13:17:03.806474Z"
    }
   },
   "outputs": [
    {
     "name": "stdout",
     "output_type": "stream",
     "text": [
      "Precision@5 = 0.4666666666666666\n"
     ]
    }
   ],
   "source": [
    "df_recs['TP@5/5'] = df_recs['TP@5'] / top_k \n",
    "\n",
    "p5 = df_recs.groupby(Columns.User)['TP@5/5'].sum().mean()\n",
    "\n",
    "print(f'Precision@5 = {p5}')"
   ]
  },
  {
   "cell_type": "code",
   "execution_count": 22,
   "id": "0ff4fd10",
   "metadata": {
    "ExecuteTime": {
     "end_time": "2022-11-16T13:17:03.850473Z",
     "start_time": "2022-11-16T13:17:03.822474Z"
    }
   },
   "outputs": [
    {
     "data": {
      "text/html": [
       "<div>\n",
       "<style scoped>\n",
       "    .dataframe tbody tr th:only-of-type {\n",
       "        vertical-align: middle;\n",
       "    }\n",
       "\n",
       "    .dataframe tbody tr th {\n",
       "        vertical-align: top;\n",
       "    }\n",
       "\n",
       "    .dataframe thead th {\n",
       "        text-align: right;\n",
       "    }\n",
       "</style>\n",
       "<table border=\"1\" class=\"dataframe\">\n",
       "  <thead>\n",
       "    <tr style=\"text-align: right;\">\n",
       "      <th></th>\n",
       "      <th>user_id</th>\n",
       "      <th>item_id</th>\n",
       "      <th>rank</th>\n",
       "      <th>TP@5</th>\n",
       "      <th>TP@5/5</th>\n",
       "    </tr>\n",
       "  </thead>\n",
       "  <tbody>\n",
       "    <tr>\n",
       "      <th>0</th>\n",
       "      <td>57607</td>\n",
       "      <td>4151</td>\n",
       "      <td>1.0</td>\n",
       "      <td>True</td>\n",
       "      <td>0.2</td>\n",
       "    </tr>\n",
       "    <tr>\n",
       "      <th>2</th>\n",
       "      <td>57607</td>\n",
       "      <td>13865</td>\n",
       "      <td>3.0</td>\n",
       "      <td>True</td>\n",
       "      <td>0.2</td>\n",
       "    </tr>\n",
       "    <tr>\n",
       "      <th>1</th>\n",
       "      <td>57607</td>\n",
       "      <td>10440</td>\n",
       "      <td>NaN</td>\n",
       "      <td>False</td>\n",
       "      <td>0.0</td>\n",
       "    </tr>\n",
       "    <tr>\n",
       "      <th>3</th>\n",
       "      <td>70720</td>\n",
       "      <td>4880</td>\n",
       "      <td>2.0</td>\n",
       "      <td>True</td>\n",
       "      <td>0.2</td>\n",
       "    </tr>\n",
       "    <tr>\n",
       "      <th>4</th>\n",
       "      <td>70720</td>\n",
       "      <td>4881</td>\n",
       "      <td>3.0</td>\n",
       "      <td>True</td>\n",
       "      <td>0.2</td>\n",
       "    </tr>\n",
       "    <tr>\n",
       "      <th>5</th>\n",
       "      <td>70720</td>\n",
       "      <td>6327</td>\n",
       "      <td>5.0</td>\n",
       "      <td>True</td>\n",
       "      <td>0.2</td>\n",
       "    </tr>\n",
       "    <tr>\n",
       "      <th>9</th>\n",
       "      <td>403227</td>\n",
       "      <td>181</td>\n",
       "      <td>1.0</td>\n",
       "      <td>True</td>\n",
       "      <td>0.2</td>\n",
       "    </tr>\n",
       "    <tr>\n",
       "      <th>7</th>\n",
       "      <td>403227</td>\n",
       "      <td>1736</td>\n",
       "      <td>4.0</td>\n",
       "      <td>True</td>\n",
       "      <td>0.2</td>\n",
       "    </tr>\n",
       "    <tr>\n",
       "      <th>6</th>\n",
       "      <td>403227</td>\n",
       "      <td>6353</td>\n",
       "      <td>NaN</td>\n",
       "      <td>False</td>\n",
       "      <td>0.0</td>\n",
       "    </tr>\n",
       "    <tr>\n",
       "      <th>8</th>\n",
       "      <td>403227</td>\n",
       "      <td>5336</td>\n",
       "      <td>NaN</td>\n",
       "      <td>False</td>\n",
       "      <td>0.0</td>\n",
       "    </tr>\n",
       "  </tbody>\n",
       "</table>\n",
       "</div>"
      ],
      "text/plain": [
       "   user_id  item_id  rank   TP@5  TP@5/5\n",
       "0    57607     4151   1.0   True     0.2\n",
       "2    57607    13865   3.0   True     0.2\n",
       "1    57607    10440   NaN  False     0.0\n",
       "3    70720     4880   2.0   True     0.2\n",
       "4    70720     4881   3.0   True     0.2\n",
       "5    70720     6327   5.0   True     0.2\n",
       "9   403227      181   1.0   True     0.2\n",
       "7   403227     1736   4.0   True     0.2\n",
       "6   403227     6353   NaN  False     0.0\n",
       "8   403227     5336   NaN  False     0.0"
      ]
     },
     "execution_count": 22,
     "metadata": {},
     "output_type": "execute_result"
    }
   ],
   "source": [
    "df_recs"
   ]
  },
  {
   "cell_type": "markdown",
   "id": "30ffeeb7",
   "metadata": {},
   "source": [
    "Используем тот факт, что мы знаем количество пользователей, а значит groupby не нужен"
   ]
  },
  {
   "cell_type": "code",
   "execution_count": 23,
   "id": "9555156b",
   "metadata": {
    "ExecuteTime": {
     "end_time": "2022-11-16T13:17:03.865473Z",
     "start_time": "2022-11-16T13:17:03.853476Z"
    }
   },
   "outputs": [
    {
     "name": "stdout",
     "output_type": "stream",
     "text": [
      "Precision@5 = 0.46666666666666673\n"
     ]
    }
   ],
   "source": [
    "p5 = df_recs['TP@5/5'].sum() / len(sample_users)\n",
    "print(f'Precision@5 = {p5}')"
   ]
  },
  {
   "cell_type": "markdown",
   "id": "94b0a780",
   "metadata": {},
   "source": [
    "### Recall@K"
   ]
  },
  {
   "cell_type": "code",
   "execution_count": 24,
   "id": "535e44f2",
   "metadata": {
    "ExecuteTime": {
     "end_time": "2022-11-16T13:17:03.895474Z",
     "start_time": "2022-11-16T13:17:03.868474Z"
    }
   },
   "outputs": [
    {
     "data": {
      "text/html": [
       "<div>\n",
       "<style scoped>\n",
       "    .dataframe tbody tr th:only-of-type {\n",
       "        vertical-align: middle;\n",
       "    }\n",
       "\n",
       "    .dataframe tbody tr th {\n",
       "        vertical-align: top;\n",
       "    }\n",
       "\n",
       "    .dataframe thead th {\n",
       "        text-align: right;\n",
       "    }\n",
       "</style>\n",
       "<table border=\"1\" class=\"dataframe\">\n",
       "  <thead>\n",
       "    <tr style=\"text-align: right;\">\n",
       "      <th></th>\n",
       "      <th>user_id</th>\n",
       "      <th>item_id</th>\n",
       "      <th>rank</th>\n",
       "      <th>TP@5</th>\n",
       "      <th>TP@5/5</th>\n",
       "      <th>actual</th>\n",
       "    </tr>\n",
       "  </thead>\n",
       "  <tbody>\n",
       "    <tr>\n",
       "      <th>0</th>\n",
       "      <td>57607</td>\n",
       "      <td>4151</td>\n",
       "      <td>1.0</td>\n",
       "      <td>True</td>\n",
       "      <td>0.2</td>\n",
       "      <td>3</td>\n",
       "    </tr>\n",
       "    <tr>\n",
       "      <th>2</th>\n",
       "      <td>57607</td>\n",
       "      <td>13865</td>\n",
       "      <td>3.0</td>\n",
       "      <td>True</td>\n",
       "      <td>0.2</td>\n",
       "      <td>3</td>\n",
       "    </tr>\n",
       "    <tr>\n",
       "      <th>1</th>\n",
       "      <td>57607</td>\n",
       "      <td>10440</td>\n",
       "      <td>NaN</td>\n",
       "      <td>False</td>\n",
       "      <td>0.0</td>\n",
       "      <td>3</td>\n",
       "    </tr>\n",
       "    <tr>\n",
       "      <th>3</th>\n",
       "      <td>70720</td>\n",
       "      <td>4880</td>\n",
       "      <td>2.0</td>\n",
       "      <td>True</td>\n",
       "      <td>0.2</td>\n",
       "      <td>3</td>\n",
       "    </tr>\n",
       "    <tr>\n",
       "      <th>4</th>\n",
       "      <td>70720</td>\n",
       "      <td>4881</td>\n",
       "      <td>3.0</td>\n",
       "      <td>True</td>\n",
       "      <td>0.2</td>\n",
       "      <td>3</td>\n",
       "    </tr>\n",
       "    <tr>\n",
       "      <th>5</th>\n",
       "      <td>70720</td>\n",
       "      <td>6327</td>\n",
       "      <td>5.0</td>\n",
       "      <td>True</td>\n",
       "      <td>0.2</td>\n",
       "      <td>3</td>\n",
       "    </tr>\n",
       "    <tr>\n",
       "      <th>9</th>\n",
       "      <td>403227</td>\n",
       "      <td>181</td>\n",
       "      <td>1.0</td>\n",
       "      <td>True</td>\n",
       "      <td>0.2</td>\n",
       "      <td>4</td>\n",
       "    </tr>\n",
       "    <tr>\n",
       "      <th>7</th>\n",
       "      <td>403227</td>\n",
       "      <td>1736</td>\n",
       "      <td>4.0</td>\n",
       "      <td>True</td>\n",
       "      <td>0.2</td>\n",
       "      <td>4</td>\n",
       "    </tr>\n",
       "    <tr>\n",
       "      <th>6</th>\n",
       "      <td>403227</td>\n",
       "      <td>6353</td>\n",
       "      <td>NaN</td>\n",
       "      <td>False</td>\n",
       "      <td>0.0</td>\n",
       "      <td>4</td>\n",
       "    </tr>\n",
       "    <tr>\n",
       "      <th>8</th>\n",
       "      <td>403227</td>\n",
       "      <td>5336</td>\n",
       "      <td>NaN</td>\n",
       "      <td>False</td>\n",
       "      <td>0.0</td>\n",
       "      <td>4</td>\n",
       "    </tr>\n",
       "  </tbody>\n",
       "</table>\n",
       "</div>"
      ],
      "text/plain": [
       "   user_id  item_id  rank   TP@5  TP@5/5  actual\n",
       "0    57607     4151   1.0   True     0.2       3\n",
       "2    57607    13865   3.0   True     0.2       3\n",
       "1    57607    10440   NaN  False     0.0       3\n",
       "3    70720     4880   2.0   True     0.2       3\n",
       "4    70720     4881   3.0   True     0.2       3\n",
       "5    70720     6327   5.0   True     0.2       3\n",
       "9   403227      181   1.0   True     0.2       4\n",
       "7   403227     1736   4.0   True     0.2       4\n",
       "6   403227     6353   NaN  False     0.0       4\n",
       "8   403227     5336   NaN  False     0.0       4"
      ]
     },
     "execution_count": 24,
     "metadata": {},
     "output_type": "execute_result"
    }
   ],
   "source": [
    "df_recs['actual'] = df_recs.groupby(Columns.User)[Columns.Item].transform('count')\n",
    "df_recs"
   ]
  },
  {
   "cell_type": "code",
   "execution_count": 25,
   "id": "370013e4",
   "metadata": {
    "ExecuteTime": {
     "end_time": "2022-11-16T13:17:03.925476Z",
     "start_time": "2022-11-16T13:17:03.898476Z"
    }
   },
   "outputs": [
    {
     "data": {
      "text/html": [
       "<div>\n",
       "<style scoped>\n",
       "    .dataframe tbody tr th:only-of-type {\n",
       "        vertical-align: middle;\n",
       "    }\n",
       "\n",
       "    .dataframe tbody tr th {\n",
       "        vertical-align: top;\n",
       "    }\n",
       "\n",
       "    .dataframe thead th {\n",
       "        text-align: right;\n",
       "    }\n",
       "</style>\n",
       "<table border=\"1\" class=\"dataframe\">\n",
       "  <thead>\n",
       "    <tr style=\"text-align: right;\">\n",
       "      <th></th>\n",
       "      <th>user_id</th>\n",
       "      <th>item_id</th>\n",
       "      <th>rank</th>\n",
       "      <th>TP@5</th>\n",
       "      <th>TP@5/5</th>\n",
       "      <th>actual</th>\n",
       "      <th>TP@5/actual</th>\n",
       "    </tr>\n",
       "  </thead>\n",
       "  <tbody>\n",
       "    <tr>\n",
       "      <th>0</th>\n",
       "      <td>57607</td>\n",
       "      <td>4151</td>\n",
       "      <td>1.0</td>\n",
       "      <td>True</td>\n",
       "      <td>0.2</td>\n",
       "      <td>3</td>\n",
       "      <td>0.333333</td>\n",
       "    </tr>\n",
       "    <tr>\n",
       "      <th>2</th>\n",
       "      <td>57607</td>\n",
       "      <td>13865</td>\n",
       "      <td>3.0</td>\n",
       "      <td>True</td>\n",
       "      <td>0.2</td>\n",
       "      <td>3</td>\n",
       "      <td>0.333333</td>\n",
       "    </tr>\n",
       "    <tr>\n",
       "      <th>1</th>\n",
       "      <td>57607</td>\n",
       "      <td>10440</td>\n",
       "      <td>NaN</td>\n",
       "      <td>False</td>\n",
       "      <td>0.0</td>\n",
       "      <td>3</td>\n",
       "      <td>0.000000</td>\n",
       "    </tr>\n",
       "    <tr>\n",
       "      <th>3</th>\n",
       "      <td>70720</td>\n",
       "      <td>4880</td>\n",
       "      <td>2.0</td>\n",
       "      <td>True</td>\n",
       "      <td>0.2</td>\n",
       "      <td>3</td>\n",
       "      <td>0.333333</td>\n",
       "    </tr>\n",
       "    <tr>\n",
       "      <th>4</th>\n",
       "      <td>70720</td>\n",
       "      <td>4881</td>\n",
       "      <td>3.0</td>\n",
       "      <td>True</td>\n",
       "      <td>0.2</td>\n",
       "      <td>3</td>\n",
       "      <td>0.333333</td>\n",
       "    </tr>\n",
       "    <tr>\n",
       "      <th>5</th>\n",
       "      <td>70720</td>\n",
       "      <td>6327</td>\n",
       "      <td>5.0</td>\n",
       "      <td>True</td>\n",
       "      <td>0.2</td>\n",
       "      <td>3</td>\n",
       "      <td>0.333333</td>\n",
       "    </tr>\n",
       "    <tr>\n",
       "      <th>9</th>\n",
       "      <td>403227</td>\n",
       "      <td>181</td>\n",
       "      <td>1.0</td>\n",
       "      <td>True</td>\n",
       "      <td>0.2</td>\n",
       "      <td>4</td>\n",
       "      <td>0.250000</td>\n",
       "    </tr>\n",
       "    <tr>\n",
       "      <th>7</th>\n",
       "      <td>403227</td>\n",
       "      <td>1736</td>\n",
       "      <td>4.0</td>\n",
       "      <td>True</td>\n",
       "      <td>0.2</td>\n",
       "      <td>4</td>\n",
       "      <td>0.250000</td>\n",
       "    </tr>\n",
       "    <tr>\n",
       "      <th>6</th>\n",
       "      <td>403227</td>\n",
       "      <td>6353</td>\n",
       "      <td>NaN</td>\n",
       "      <td>False</td>\n",
       "      <td>0.0</td>\n",
       "      <td>4</td>\n",
       "      <td>0.000000</td>\n",
       "    </tr>\n",
       "    <tr>\n",
       "      <th>8</th>\n",
       "      <td>403227</td>\n",
       "      <td>5336</td>\n",
       "      <td>NaN</td>\n",
       "      <td>False</td>\n",
       "      <td>0.0</td>\n",
       "      <td>4</td>\n",
       "      <td>0.000000</td>\n",
       "    </tr>\n",
       "  </tbody>\n",
       "</table>\n",
       "</div>"
      ],
      "text/plain": [
       "   user_id  item_id  rank   TP@5  TP@5/5  actual  TP@5/actual\n",
       "0    57607     4151   1.0   True     0.2       3     0.333333\n",
       "2    57607    13865   3.0   True     0.2       3     0.333333\n",
       "1    57607    10440   NaN  False     0.0       3     0.000000\n",
       "3    70720     4880   2.0   True     0.2       3     0.333333\n",
       "4    70720     4881   3.0   True     0.2       3     0.333333\n",
       "5    70720     6327   5.0   True     0.2       3     0.333333\n",
       "9   403227      181   1.0   True     0.2       4     0.250000\n",
       "7   403227     1736   4.0   True     0.2       4     0.250000\n",
       "6   403227     6353   NaN  False     0.0       4     0.000000\n",
       "8   403227     5336   NaN  False     0.0       4     0.000000"
      ]
     },
     "execution_count": 25,
     "metadata": {},
     "output_type": "execute_result"
    }
   ],
   "source": [
    "df_recs['TP@5/actual'] = df_recs['TP@5'] / df_recs['actual']\n",
    "df_recs"
   ]
  },
  {
   "cell_type": "code",
   "execution_count": 26,
   "id": "aebd0ba9",
   "metadata": {
    "ExecuteTime": {
     "end_time": "2022-11-16T13:17:03.940473Z",
     "start_time": "2022-11-16T13:17:03.928474Z"
    }
   },
   "outputs": [
    {
     "data": {
      "text/plain": [
       "0.7222222222222222"
      ]
     },
     "execution_count": 26,
     "metadata": {},
     "output_type": "execute_result"
    }
   ],
   "source": [
    "(2/3 + 3/3 + 2/4) / 3"
   ]
  },
  {
   "cell_type": "code",
   "execution_count": 27,
   "id": "84406981",
   "metadata": {
    "ExecuteTime": {
     "end_time": "2022-11-16T13:17:03.956473Z",
     "start_time": "2022-11-16T13:17:03.943474Z"
    }
   },
   "outputs": [
    {
     "name": "stdout",
     "output_type": "stream",
     "text": [
      "Recall@5 = 0.7222222222222222\n"
     ]
    }
   ],
   "source": [
    "r5 = df_recs.groupby(Columns.User)['TP@5/actual'].sum().mean()\n",
    "print(f'Recall@5 = {r5}')"
   ]
  },
  {
   "cell_type": "code",
   "execution_count": 28,
   "id": "e5e58fa3",
   "metadata": {
    "ExecuteTime": {
     "end_time": "2022-11-16T13:17:03.972477Z",
     "start_time": "2022-11-16T13:17:03.959476Z"
    }
   },
   "outputs": [
    {
     "name": "stdout",
     "output_type": "stream",
     "text": [
      "Recall@5 = 0.7222222222222222\n"
     ]
    }
   ],
   "source": [
    "r5 = df_recs['TP@5/actual'].sum() / len(sample_users)\n",
    "print(f'Recall@5 = {r5}')"
   ]
  },
  {
   "cell_type": "markdown",
   "id": "a22237fc",
   "metadata": {},
   "source": [
    "## Ranking\n",
    "\n",
    "### MAP@K"
   ]
  },
  {
   "cell_type": "code",
   "execution_count": 29,
   "id": "7c3bec49",
   "metadata": {
    "ExecuteTime": {
     "end_time": "2022-11-16T13:17:03.988474Z",
     "start_time": "2022-11-16T13:17:03.975477Z"
    }
   },
   "outputs": [
    {
     "data": {
      "text/html": [
       "<div>\n",
       "<style scoped>\n",
       "    .dataframe tbody tr th:only-of-type {\n",
       "        vertical-align: middle;\n",
       "    }\n",
       "\n",
       "    .dataframe tbody tr th {\n",
       "        vertical-align: top;\n",
       "    }\n",
       "\n",
       "    .dataframe thead th {\n",
       "        text-align: right;\n",
       "    }\n",
       "</style>\n",
       "<table border=\"1\" class=\"dataframe\">\n",
       "  <thead>\n",
       "    <tr style=\"text-align: right;\">\n",
       "      <th></th>\n",
       "      <th>user_id</th>\n",
       "      <th>item_id</th>\n",
       "      <th>rank</th>\n",
       "      <th>TP@5</th>\n",
       "      <th>TP@5/5</th>\n",
       "      <th>actual</th>\n",
       "      <th>TP@5/actual</th>\n",
       "    </tr>\n",
       "  </thead>\n",
       "  <tbody>\n",
       "    <tr>\n",
       "      <th>0</th>\n",
       "      <td>57607</td>\n",
       "      <td>4151</td>\n",
       "      <td>1.0</td>\n",
       "      <td>True</td>\n",
       "      <td>0.2</td>\n",
       "      <td>3</td>\n",
       "      <td>0.333333</td>\n",
       "    </tr>\n",
       "    <tr>\n",
       "      <th>2</th>\n",
       "      <td>57607</td>\n",
       "      <td>13865</td>\n",
       "      <td>3.0</td>\n",
       "      <td>True</td>\n",
       "      <td>0.2</td>\n",
       "      <td>3</td>\n",
       "      <td>0.333333</td>\n",
       "    </tr>\n",
       "    <tr>\n",
       "      <th>1</th>\n",
       "      <td>57607</td>\n",
       "      <td>10440</td>\n",
       "      <td>NaN</td>\n",
       "      <td>False</td>\n",
       "      <td>0.0</td>\n",
       "      <td>3</td>\n",
       "      <td>0.000000</td>\n",
       "    </tr>\n",
       "    <tr>\n",
       "      <th>3</th>\n",
       "      <td>70720</td>\n",
       "      <td>4880</td>\n",
       "      <td>2.0</td>\n",
       "      <td>True</td>\n",
       "      <td>0.2</td>\n",
       "      <td>3</td>\n",
       "      <td>0.333333</td>\n",
       "    </tr>\n",
       "    <tr>\n",
       "      <th>4</th>\n",
       "      <td>70720</td>\n",
       "      <td>4881</td>\n",
       "      <td>3.0</td>\n",
       "      <td>True</td>\n",
       "      <td>0.2</td>\n",
       "      <td>3</td>\n",
       "      <td>0.333333</td>\n",
       "    </tr>\n",
       "    <tr>\n",
       "      <th>5</th>\n",
       "      <td>70720</td>\n",
       "      <td>6327</td>\n",
       "      <td>5.0</td>\n",
       "      <td>True</td>\n",
       "      <td>0.2</td>\n",
       "      <td>3</td>\n",
       "      <td>0.333333</td>\n",
       "    </tr>\n",
       "    <tr>\n",
       "      <th>9</th>\n",
       "      <td>403227</td>\n",
       "      <td>181</td>\n",
       "      <td>1.0</td>\n",
       "      <td>True</td>\n",
       "      <td>0.2</td>\n",
       "      <td>4</td>\n",
       "      <td>0.250000</td>\n",
       "    </tr>\n",
       "    <tr>\n",
       "      <th>7</th>\n",
       "      <td>403227</td>\n",
       "      <td>1736</td>\n",
       "      <td>4.0</td>\n",
       "      <td>True</td>\n",
       "      <td>0.2</td>\n",
       "      <td>4</td>\n",
       "      <td>0.250000</td>\n",
       "    </tr>\n",
       "    <tr>\n",
       "      <th>6</th>\n",
       "      <td>403227</td>\n",
       "      <td>6353</td>\n",
       "      <td>NaN</td>\n",
       "      <td>False</td>\n",
       "      <td>0.0</td>\n",
       "      <td>4</td>\n",
       "      <td>0.000000</td>\n",
       "    </tr>\n",
       "    <tr>\n",
       "      <th>8</th>\n",
       "      <td>403227</td>\n",
       "      <td>5336</td>\n",
       "      <td>NaN</td>\n",
       "      <td>False</td>\n",
       "      <td>0.0</td>\n",
       "      <td>4</td>\n",
       "      <td>0.000000</td>\n",
       "    </tr>\n",
       "  </tbody>\n",
       "</table>\n",
       "</div>"
      ],
      "text/plain": [
       "   user_id  item_id  rank   TP@5  TP@5/5  actual  TP@5/actual\n",
       "0    57607     4151   1.0   True     0.2       3     0.333333\n",
       "2    57607    13865   3.0   True     0.2       3     0.333333\n",
       "1    57607    10440   NaN  False     0.0       3     0.000000\n",
       "3    70720     4880   2.0   True     0.2       3     0.333333\n",
       "4    70720     4881   3.0   True     0.2       3     0.333333\n",
       "5    70720     6327   5.0   True     0.2       3     0.333333\n",
       "9   403227      181   1.0   True     0.2       4     0.250000\n",
       "7   403227     1736   4.0   True     0.2       4     0.250000\n",
       "6   403227     6353   NaN  False     0.0       4     0.000000\n",
       "8   403227     5336   NaN  False     0.0       4     0.000000"
      ]
     },
     "execution_count": 29,
     "metadata": {},
     "output_type": "execute_result"
    }
   ],
   "source": [
    "df_recs"
   ]
  },
  {
   "cell_type": "code",
   "execution_count": 30,
   "id": "dc0a5f4c",
   "metadata": {
    "ExecuteTime": {
     "end_time": "2022-11-16T13:17:04.019475Z",
     "start_time": "2022-11-16T13:17:03.991473Z"
    }
   },
   "outputs": [
    {
     "data": {
      "text/html": [
       "<div>\n",
       "<style scoped>\n",
       "    .dataframe tbody tr th:only-of-type {\n",
       "        vertical-align: middle;\n",
       "    }\n",
       "\n",
       "    .dataframe tbody tr th {\n",
       "        vertical-align: top;\n",
       "    }\n",
       "\n",
       "    .dataframe thead th {\n",
       "        text-align: right;\n",
       "    }\n",
       "</style>\n",
       "<table border=\"1\" class=\"dataframe\">\n",
       "  <thead>\n",
       "    <tr style=\"text-align: right;\">\n",
       "      <th></th>\n",
       "      <th>user_id</th>\n",
       "      <th>item_id</th>\n",
       "      <th>rank</th>\n",
       "      <th>TP@5</th>\n",
       "      <th>TP@5/5</th>\n",
       "      <th>actual</th>\n",
       "      <th>TP@5/actual</th>\n",
       "      <th>cumTP@5</th>\n",
       "    </tr>\n",
       "  </thead>\n",
       "  <tbody>\n",
       "    <tr>\n",
       "      <th>0</th>\n",
       "      <td>57607</td>\n",
       "      <td>4151</td>\n",
       "      <td>1.0</td>\n",
       "      <td>True</td>\n",
       "      <td>0.2</td>\n",
       "      <td>3</td>\n",
       "      <td>0.333333</td>\n",
       "      <td>1</td>\n",
       "    </tr>\n",
       "    <tr>\n",
       "      <th>2</th>\n",
       "      <td>57607</td>\n",
       "      <td>13865</td>\n",
       "      <td>3.0</td>\n",
       "      <td>True</td>\n",
       "      <td>0.2</td>\n",
       "      <td>3</td>\n",
       "      <td>0.333333</td>\n",
       "      <td>2</td>\n",
       "    </tr>\n",
       "    <tr>\n",
       "      <th>1</th>\n",
       "      <td>57607</td>\n",
       "      <td>10440</td>\n",
       "      <td>NaN</td>\n",
       "      <td>False</td>\n",
       "      <td>0.0</td>\n",
       "      <td>3</td>\n",
       "      <td>0.000000</td>\n",
       "      <td>2</td>\n",
       "    </tr>\n",
       "    <tr>\n",
       "      <th>3</th>\n",
       "      <td>70720</td>\n",
       "      <td>4880</td>\n",
       "      <td>2.0</td>\n",
       "      <td>True</td>\n",
       "      <td>0.2</td>\n",
       "      <td>3</td>\n",
       "      <td>0.333333</td>\n",
       "      <td>1</td>\n",
       "    </tr>\n",
       "    <tr>\n",
       "      <th>4</th>\n",
       "      <td>70720</td>\n",
       "      <td>4881</td>\n",
       "      <td>3.0</td>\n",
       "      <td>True</td>\n",
       "      <td>0.2</td>\n",
       "      <td>3</td>\n",
       "      <td>0.333333</td>\n",
       "      <td>2</td>\n",
       "    </tr>\n",
       "    <tr>\n",
       "      <th>5</th>\n",
       "      <td>70720</td>\n",
       "      <td>6327</td>\n",
       "      <td>5.0</td>\n",
       "      <td>True</td>\n",
       "      <td>0.2</td>\n",
       "      <td>3</td>\n",
       "      <td>0.333333</td>\n",
       "      <td>3</td>\n",
       "    </tr>\n",
       "    <tr>\n",
       "      <th>9</th>\n",
       "      <td>403227</td>\n",
       "      <td>181</td>\n",
       "      <td>1.0</td>\n",
       "      <td>True</td>\n",
       "      <td>0.2</td>\n",
       "      <td>4</td>\n",
       "      <td>0.250000</td>\n",
       "      <td>1</td>\n",
       "    </tr>\n",
       "    <tr>\n",
       "      <th>7</th>\n",
       "      <td>403227</td>\n",
       "      <td>1736</td>\n",
       "      <td>4.0</td>\n",
       "      <td>True</td>\n",
       "      <td>0.2</td>\n",
       "      <td>4</td>\n",
       "      <td>0.250000</td>\n",
       "      <td>2</td>\n",
       "    </tr>\n",
       "    <tr>\n",
       "      <th>6</th>\n",
       "      <td>403227</td>\n",
       "      <td>6353</td>\n",
       "      <td>NaN</td>\n",
       "      <td>False</td>\n",
       "      <td>0.0</td>\n",
       "      <td>4</td>\n",
       "      <td>0.000000</td>\n",
       "      <td>2</td>\n",
       "    </tr>\n",
       "    <tr>\n",
       "      <th>8</th>\n",
       "      <td>403227</td>\n",
       "      <td>5336</td>\n",
       "      <td>NaN</td>\n",
       "      <td>False</td>\n",
       "      <td>0.0</td>\n",
       "      <td>4</td>\n",
       "      <td>0.000000</td>\n",
       "      <td>2</td>\n",
       "    </tr>\n",
       "  </tbody>\n",
       "</table>\n",
       "</div>"
      ],
      "text/plain": [
       "   user_id  item_id  rank   TP@5  TP@5/5  actual  TP@5/actual  cumTP@5\n",
       "0    57607     4151   1.0   True     0.2       3     0.333333        1\n",
       "2    57607    13865   3.0   True     0.2       3     0.333333        2\n",
       "1    57607    10440   NaN  False     0.0       3     0.000000        2\n",
       "3    70720     4880   2.0   True     0.2       3     0.333333        1\n",
       "4    70720     4881   3.0   True     0.2       3     0.333333        2\n",
       "5    70720     6327   5.0   True     0.2       3     0.333333        3\n",
       "9   403227      181   1.0   True     0.2       4     0.250000        1\n",
       "7   403227     1736   4.0   True     0.2       4     0.250000        2\n",
       "6   403227     6353   NaN  False     0.0       4     0.000000        2\n",
       "8   403227     5336   NaN  False     0.0       4     0.000000        2"
      ]
     },
     "execution_count": 30,
     "metadata": {},
     "output_type": "execute_result"
    }
   ],
   "source": [
    "df_recs['cumTP@5'] = df_recs.groupby(Columns.User)['TP@5'].cumsum()\n",
    "df_recs"
   ]
  },
  {
   "cell_type": "code",
   "execution_count": 31,
   "id": "38b572f2",
   "metadata": {
    "ExecuteTime": {
     "end_time": "2022-11-16T13:17:04.049477Z",
     "start_time": "2022-11-16T13:17:04.022475Z"
    }
   },
   "outputs": [
    {
     "data": {
      "text/html": [
       "<div>\n",
       "<style scoped>\n",
       "    .dataframe tbody tr th:only-of-type {\n",
       "        vertical-align: middle;\n",
       "    }\n",
       "\n",
       "    .dataframe tbody tr th {\n",
       "        vertical-align: top;\n",
       "    }\n",
       "\n",
       "    .dataframe thead th {\n",
       "        text-align: right;\n",
       "    }\n",
       "</style>\n",
       "<table border=\"1\" class=\"dataframe\">\n",
       "  <thead>\n",
       "    <tr style=\"text-align: right;\">\n",
       "      <th></th>\n",
       "      <th>user_id</th>\n",
       "      <th>item_id</th>\n",
       "      <th>rank</th>\n",
       "      <th>TP@5</th>\n",
       "      <th>TP@5/5</th>\n",
       "      <th>actual</th>\n",
       "      <th>TP@5/actual</th>\n",
       "      <th>cumTP@5</th>\n",
       "      <th>Prec@5</th>\n",
       "    </tr>\n",
       "  </thead>\n",
       "  <tbody>\n",
       "    <tr>\n",
       "      <th>0</th>\n",
       "      <td>57607</td>\n",
       "      <td>4151</td>\n",
       "      <td>1.0</td>\n",
       "      <td>True</td>\n",
       "      <td>0.2</td>\n",
       "      <td>3</td>\n",
       "      <td>0.333333</td>\n",
       "      <td>1</td>\n",
       "      <td>1.000000</td>\n",
       "    </tr>\n",
       "    <tr>\n",
       "      <th>2</th>\n",
       "      <td>57607</td>\n",
       "      <td>13865</td>\n",
       "      <td>3.0</td>\n",
       "      <td>True</td>\n",
       "      <td>0.2</td>\n",
       "      <td>3</td>\n",
       "      <td>0.333333</td>\n",
       "      <td>2</td>\n",
       "      <td>0.666667</td>\n",
       "    </tr>\n",
       "    <tr>\n",
       "      <th>1</th>\n",
       "      <td>57607</td>\n",
       "      <td>10440</td>\n",
       "      <td>NaN</td>\n",
       "      <td>False</td>\n",
       "      <td>0.0</td>\n",
       "      <td>3</td>\n",
       "      <td>0.000000</td>\n",
       "      <td>2</td>\n",
       "      <td>NaN</td>\n",
       "    </tr>\n",
       "    <tr>\n",
       "      <th>3</th>\n",
       "      <td>70720</td>\n",
       "      <td>4880</td>\n",
       "      <td>2.0</td>\n",
       "      <td>True</td>\n",
       "      <td>0.2</td>\n",
       "      <td>3</td>\n",
       "      <td>0.333333</td>\n",
       "      <td>1</td>\n",
       "      <td>0.500000</td>\n",
       "    </tr>\n",
       "    <tr>\n",
       "      <th>4</th>\n",
       "      <td>70720</td>\n",
       "      <td>4881</td>\n",
       "      <td>3.0</td>\n",
       "      <td>True</td>\n",
       "      <td>0.2</td>\n",
       "      <td>3</td>\n",
       "      <td>0.333333</td>\n",
       "      <td>2</td>\n",
       "      <td>0.666667</td>\n",
       "    </tr>\n",
       "    <tr>\n",
       "      <th>5</th>\n",
       "      <td>70720</td>\n",
       "      <td>6327</td>\n",
       "      <td>5.0</td>\n",
       "      <td>True</td>\n",
       "      <td>0.2</td>\n",
       "      <td>3</td>\n",
       "      <td>0.333333</td>\n",
       "      <td>3</td>\n",
       "      <td>0.600000</td>\n",
       "    </tr>\n",
       "    <tr>\n",
       "      <th>9</th>\n",
       "      <td>403227</td>\n",
       "      <td>181</td>\n",
       "      <td>1.0</td>\n",
       "      <td>True</td>\n",
       "      <td>0.2</td>\n",
       "      <td>4</td>\n",
       "      <td>0.250000</td>\n",
       "      <td>1</td>\n",
       "      <td>1.000000</td>\n",
       "    </tr>\n",
       "    <tr>\n",
       "      <th>7</th>\n",
       "      <td>403227</td>\n",
       "      <td>1736</td>\n",
       "      <td>4.0</td>\n",
       "      <td>True</td>\n",
       "      <td>0.2</td>\n",
       "      <td>4</td>\n",
       "      <td>0.250000</td>\n",
       "      <td>2</td>\n",
       "      <td>0.500000</td>\n",
       "    </tr>\n",
       "    <tr>\n",
       "      <th>6</th>\n",
       "      <td>403227</td>\n",
       "      <td>6353</td>\n",
       "      <td>NaN</td>\n",
       "      <td>False</td>\n",
       "      <td>0.0</td>\n",
       "      <td>4</td>\n",
       "      <td>0.000000</td>\n",
       "      <td>2</td>\n",
       "      <td>NaN</td>\n",
       "    </tr>\n",
       "    <tr>\n",
       "      <th>8</th>\n",
       "      <td>403227</td>\n",
       "      <td>5336</td>\n",
       "      <td>NaN</td>\n",
       "      <td>False</td>\n",
       "      <td>0.0</td>\n",
       "      <td>4</td>\n",
       "      <td>0.000000</td>\n",
       "      <td>2</td>\n",
       "      <td>NaN</td>\n",
       "    </tr>\n",
       "  </tbody>\n",
       "</table>\n",
       "</div>"
      ],
      "text/plain": [
       "   user_id  item_id  rank   TP@5  TP@5/5  actual  TP@5/actual  cumTP@5  \\\n",
       "0    57607     4151   1.0   True     0.2       3     0.333333        1   \n",
       "2    57607    13865   3.0   True     0.2       3     0.333333        2   \n",
       "1    57607    10440   NaN  False     0.0       3     0.000000        2   \n",
       "3    70720     4880   2.0   True     0.2       3     0.333333        1   \n",
       "4    70720     4881   3.0   True     0.2       3     0.333333        2   \n",
       "5    70720     6327   5.0   True     0.2       3     0.333333        3   \n",
       "9   403227      181   1.0   True     0.2       4     0.250000        1   \n",
       "7   403227     1736   4.0   True     0.2       4     0.250000        2   \n",
       "6   403227     6353   NaN  False     0.0       4     0.000000        2   \n",
       "8   403227     5336   NaN  False     0.0       4     0.000000        2   \n",
       "\n",
       "     Prec@5  \n",
       "0  1.000000  \n",
       "2  0.666667  \n",
       "1       NaN  \n",
       "3  0.500000  \n",
       "4  0.666667  \n",
       "5  0.600000  \n",
       "9  1.000000  \n",
       "7  0.500000  \n",
       "6       NaN  \n",
       "8       NaN  "
      ]
     },
     "execution_count": 31,
     "metadata": {},
     "output_type": "execute_result"
    }
   ],
   "source": [
    "df_recs['Prec@5'] = df_recs['cumTP@5'] / df_recs[Columns.Rank]\n",
    "df_recs"
   ]
  },
  {
   "cell_type": "code",
   "execution_count": 32,
   "id": "6948122a",
   "metadata": {
    "ExecuteTime": {
     "end_time": "2022-11-16T13:17:04.080475Z",
     "start_time": "2022-11-16T13:17:04.052477Z"
    }
   },
   "outputs": [
    {
     "data": {
      "text/html": [
       "<div>\n",
       "<style scoped>\n",
       "    .dataframe tbody tr th:only-of-type {\n",
       "        vertical-align: middle;\n",
       "    }\n",
       "\n",
       "    .dataframe tbody tr th {\n",
       "        vertical-align: top;\n",
       "    }\n",
       "\n",
       "    .dataframe thead th {\n",
       "        text-align: right;\n",
       "    }\n",
       "</style>\n",
       "<table border=\"1\" class=\"dataframe\">\n",
       "  <thead>\n",
       "    <tr style=\"text-align: right;\">\n",
       "      <th></th>\n",
       "      <th>user_id</th>\n",
       "      <th>item_id</th>\n",
       "      <th>rank</th>\n",
       "      <th>TP@5</th>\n",
       "      <th>TP@5/5</th>\n",
       "      <th>actual</th>\n",
       "      <th>TP@5/actual</th>\n",
       "      <th>cumTP@5</th>\n",
       "      <th>Prec@5</th>\n",
       "      <th>Prec@5/actual</th>\n",
       "    </tr>\n",
       "  </thead>\n",
       "  <tbody>\n",
       "    <tr>\n",
       "      <th>0</th>\n",
       "      <td>57607</td>\n",
       "      <td>4151</td>\n",
       "      <td>1.0</td>\n",
       "      <td>True</td>\n",
       "      <td>0.2</td>\n",
       "      <td>3</td>\n",
       "      <td>0.333333</td>\n",
       "      <td>1</td>\n",
       "      <td>1.000000</td>\n",
       "      <td>0.333333</td>\n",
       "    </tr>\n",
       "    <tr>\n",
       "      <th>2</th>\n",
       "      <td>57607</td>\n",
       "      <td>13865</td>\n",
       "      <td>3.0</td>\n",
       "      <td>True</td>\n",
       "      <td>0.2</td>\n",
       "      <td>3</td>\n",
       "      <td>0.333333</td>\n",
       "      <td>2</td>\n",
       "      <td>0.666667</td>\n",
       "      <td>0.222222</td>\n",
       "    </tr>\n",
       "    <tr>\n",
       "      <th>1</th>\n",
       "      <td>57607</td>\n",
       "      <td>10440</td>\n",
       "      <td>NaN</td>\n",
       "      <td>False</td>\n",
       "      <td>0.0</td>\n",
       "      <td>3</td>\n",
       "      <td>0.000000</td>\n",
       "      <td>2</td>\n",
       "      <td>NaN</td>\n",
       "      <td>NaN</td>\n",
       "    </tr>\n",
       "    <tr>\n",
       "      <th>3</th>\n",
       "      <td>70720</td>\n",
       "      <td>4880</td>\n",
       "      <td>2.0</td>\n",
       "      <td>True</td>\n",
       "      <td>0.2</td>\n",
       "      <td>3</td>\n",
       "      <td>0.333333</td>\n",
       "      <td>1</td>\n",
       "      <td>0.500000</td>\n",
       "      <td>0.166667</td>\n",
       "    </tr>\n",
       "    <tr>\n",
       "      <th>4</th>\n",
       "      <td>70720</td>\n",
       "      <td>4881</td>\n",
       "      <td>3.0</td>\n",
       "      <td>True</td>\n",
       "      <td>0.2</td>\n",
       "      <td>3</td>\n",
       "      <td>0.333333</td>\n",
       "      <td>2</td>\n",
       "      <td>0.666667</td>\n",
       "      <td>0.222222</td>\n",
       "    </tr>\n",
       "    <tr>\n",
       "      <th>5</th>\n",
       "      <td>70720</td>\n",
       "      <td>6327</td>\n",
       "      <td>5.0</td>\n",
       "      <td>True</td>\n",
       "      <td>0.2</td>\n",
       "      <td>3</td>\n",
       "      <td>0.333333</td>\n",
       "      <td>3</td>\n",
       "      <td>0.600000</td>\n",
       "      <td>0.200000</td>\n",
       "    </tr>\n",
       "    <tr>\n",
       "      <th>9</th>\n",
       "      <td>403227</td>\n",
       "      <td>181</td>\n",
       "      <td>1.0</td>\n",
       "      <td>True</td>\n",
       "      <td>0.2</td>\n",
       "      <td>4</td>\n",
       "      <td>0.250000</td>\n",
       "      <td>1</td>\n",
       "      <td>1.000000</td>\n",
       "      <td>0.250000</td>\n",
       "    </tr>\n",
       "    <tr>\n",
       "      <th>7</th>\n",
       "      <td>403227</td>\n",
       "      <td>1736</td>\n",
       "      <td>4.0</td>\n",
       "      <td>True</td>\n",
       "      <td>0.2</td>\n",
       "      <td>4</td>\n",
       "      <td>0.250000</td>\n",
       "      <td>2</td>\n",
       "      <td>0.500000</td>\n",
       "      <td>0.125000</td>\n",
       "    </tr>\n",
       "    <tr>\n",
       "      <th>6</th>\n",
       "      <td>403227</td>\n",
       "      <td>6353</td>\n",
       "      <td>NaN</td>\n",
       "      <td>False</td>\n",
       "      <td>0.0</td>\n",
       "      <td>4</td>\n",
       "      <td>0.000000</td>\n",
       "      <td>2</td>\n",
       "      <td>NaN</td>\n",
       "      <td>NaN</td>\n",
       "    </tr>\n",
       "    <tr>\n",
       "      <th>8</th>\n",
       "      <td>403227</td>\n",
       "      <td>5336</td>\n",
       "      <td>NaN</td>\n",
       "      <td>False</td>\n",
       "      <td>0.0</td>\n",
       "      <td>4</td>\n",
       "      <td>0.000000</td>\n",
       "      <td>2</td>\n",
       "      <td>NaN</td>\n",
       "      <td>NaN</td>\n",
       "    </tr>\n",
       "  </tbody>\n",
       "</table>\n",
       "</div>"
      ],
      "text/plain": [
       "   user_id  item_id  rank   TP@5  TP@5/5  actual  TP@5/actual  cumTP@5  \\\n",
       "0    57607     4151   1.0   True     0.2       3     0.333333        1   \n",
       "2    57607    13865   3.0   True     0.2       3     0.333333        2   \n",
       "1    57607    10440   NaN  False     0.0       3     0.000000        2   \n",
       "3    70720     4880   2.0   True     0.2       3     0.333333        1   \n",
       "4    70720     4881   3.0   True     0.2       3     0.333333        2   \n",
       "5    70720     6327   5.0   True     0.2       3     0.333333        3   \n",
       "9   403227      181   1.0   True     0.2       4     0.250000        1   \n",
       "7   403227     1736   4.0   True     0.2       4     0.250000        2   \n",
       "6   403227     6353   NaN  False     0.0       4     0.000000        2   \n",
       "8   403227     5336   NaN  False     0.0       4     0.000000        2   \n",
       "\n",
       "     Prec@5  Prec@5/actual  \n",
       "0  1.000000       0.333333  \n",
       "2  0.666667       0.222222  \n",
       "1       NaN            NaN  \n",
       "3  0.500000       0.166667  \n",
       "4  0.666667       0.222222  \n",
       "5  0.600000       0.200000  \n",
       "9  1.000000       0.250000  \n",
       "7  0.500000       0.125000  \n",
       "6       NaN            NaN  \n",
       "8       NaN            NaN  "
      ]
     },
     "execution_count": 32,
     "metadata": {},
     "output_type": "execute_result"
    }
   ],
   "source": [
    "df_recs['Prec@5/actual'] = df_recs['Prec@5'] / df_recs['actual']\n",
    "df_recs"
   ]
  },
  {
   "cell_type": "code",
   "execution_count": 33,
   "id": "8ac2cbd1",
   "metadata": {
    "ExecuteTime": {
     "end_time": "2022-11-16T13:17:04.096475Z",
     "start_time": "2022-11-16T13:17:04.083477Z"
    }
   },
   "outputs": [
    {
     "name": "stdout",
     "output_type": "stream",
     "text": [
      "0.5064814814814814\n"
     ]
    },
    {
     "data": {
      "text/plain": [
       "user_id\n",
       "57607     0.555556\n",
       "70720     0.588889\n",
       "403227    0.375000\n",
       "Name: Prec@5/actual, dtype: float64"
      ]
     },
     "execution_count": 33,
     "metadata": {},
     "output_type": "execute_result"
    }
   ],
   "source": [
    "map = df_recs.groupby(Columns.User)['Prec@5/actual'].sum()\n",
    "print(map.mean())\n",
    "map"
   ]
  },
  {
   "cell_type": "markdown",
   "id": "66107dd0",
   "metadata": {},
   "source": [
    "## Naive vs Pandas"
   ]
  },
  {
   "cell_type": "code",
   "execution_count": 34,
   "id": "b641c46e",
   "metadata": {
    "ExecuteTime": {
     "end_time": "2022-11-16T17:04:48.907677Z",
     "start_time": "2022-11-16T17:04:48.887676Z"
    }
   },
   "outputs": [
    {
     "data": {
      "text/html": [
       "<div>\n",
       "<style scoped>\n",
       "    .dataframe tbody tr th:only-of-type {\n",
       "        vertical-align: middle;\n",
       "    }\n",
       "\n",
       "    .dataframe tbody tr th {\n",
       "        vertical-align: top;\n",
       "    }\n",
       "\n",
       "    .dataframe thead th {\n",
       "        text-align: right;\n",
       "    }\n",
       "</style>\n",
       "<table border=\"1\" class=\"dataframe\">\n",
       "  <thead>\n",
       "    <tr style=\"text-align: right;\">\n",
       "      <th></th>\n",
       "      <th>user_id</th>\n",
       "      <th>item_id</th>\n",
       "    </tr>\n",
       "  </thead>\n",
       "  <tbody>\n",
       "    <tr>\n",
       "      <th>0</th>\n",
       "      <td>176549</td>\n",
       "      <td>9506</td>\n",
       "    </tr>\n",
       "    <tr>\n",
       "      <th>1</th>\n",
       "      <td>699317</td>\n",
       "      <td>1659</td>\n",
       "    </tr>\n",
       "    <tr>\n",
       "      <th>2</th>\n",
       "      <td>656683</td>\n",
       "      <td>7107</td>\n",
       "    </tr>\n",
       "    <tr>\n",
       "      <th>3</th>\n",
       "      <td>864613</td>\n",
       "      <td>7638</td>\n",
       "    </tr>\n",
       "    <tr>\n",
       "      <th>4</th>\n",
       "      <td>964868</td>\n",
       "      <td>9506</td>\n",
       "    </tr>\n",
       "    <tr>\n",
       "      <th>...</th>\n",
       "      <td>...</td>\n",
       "      <td>...</td>\n",
       "    </tr>\n",
       "    <tr>\n",
       "      <th>5476246</th>\n",
       "      <td>648596</td>\n",
       "      <td>12225</td>\n",
       "    </tr>\n",
       "    <tr>\n",
       "      <th>5476247</th>\n",
       "      <td>546862</td>\n",
       "      <td>9673</td>\n",
       "    </tr>\n",
       "    <tr>\n",
       "      <th>5476248</th>\n",
       "      <td>697262</td>\n",
       "      <td>15297</td>\n",
       "    </tr>\n",
       "    <tr>\n",
       "      <th>5476249</th>\n",
       "      <td>384202</td>\n",
       "      <td>16197</td>\n",
       "    </tr>\n",
       "    <tr>\n",
       "      <th>5476250</th>\n",
       "      <td>319709</td>\n",
       "      <td>4436</td>\n",
       "    </tr>\n",
       "  </tbody>\n",
       "</table>\n",
       "<p>5476251 rows × 2 columns</p>\n",
       "</div>"
      ],
      "text/plain": [
       "         user_id  item_id\n",
       "0         176549     9506\n",
       "1         699317     1659\n",
       "2         656683     7107\n",
       "3         864613     7638\n",
       "4         964868     9506\n",
       "...          ...      ...\n",
       "5476246   648596    12225\n",
       "5476247   546862     9673\n",
       "5476248   697262    15297\n",
       "5476249   384202    16197\n",
       "5476250   319709     4436\n",
       "\n",
       "[5476251 rows x 2 columns]"
      ]
     },
     "execution_count": 34,
     "metadata": {},
     "output_type": "execute_result"
    }
   ],
   "source": [
    "df = interactions[Columns.UserItem]\n",
    "df"
   ]
  },
  {
   "cell_type": "code",
   "execution_count": 35,
   "id": "bf515d63",
   "metadata": {
    "ExecuteTime": {
     "end_time": "2022-11-16T17:04:44.871588Z",
     "start_time": "2022-11-16T17:04:44.860588Z"
    }
   },
   "outputs": [
    {
     "data": {
      "text/plain": [
       "array([[176549,   9506],\n",
       "       [699317,   1659],\n",
       "       [656683,   7107],\n",
       "       ...,\n",
       "       [697262,  15297],\n",
       "       [384202,  16197],\n",
       "       [319709,   4436]], dtype=int64)"
      ]
     },
     "execution_count": 35,
     "metadata": {},
     "output_type": "execute_result"
    }
   ],
   "source": [
    "target = df.values\n",
    "target\n"
   ]
  },
  {
   "cell_type": "code",
   "execution_count": 36,
   "id": "7817cf13",
   "metadata": {
    "ExecuteTime": {
     "end_time": "2022-11-16T17:05:06.384880Z",
     "start_time": "2022-11-16T17:05:06.370880Z"
    }
   },
   "outputs": [
    {
     "data": {
      "text/plain": [
       "array([ 9506, 15469,  9164, 12250,  5695, 11345,  7582, 10881,  5051,\n",
       "        7453,  3258,  7626, 13243, 10761,  5600,  5533, 16197, 12302,\n",
       "        6626,  9352, 10605,  1343,  8972,  6649, 11919,  1132,   899,\n",
       "        5087, 14684,  4387,  4756, 15096,  1659,  1641, 10954,  2358,\n",
       "       13018,  1105, 13424, 10732,  4360, 14689,  8211, 12324,   349,\n",
       "       11654, 14006,  2956,  8437, 12770,  2722,   149, 10688, 14217,\n",
       "        8283,  7000,  3182, 12104,  5171,  5411, 15915,  5956,  3834,\n",
       "       11494,  6870, 15719,  2505, 15464, 14317, 11689, 10544, 15531,\n",
       "       12448,  9728,   101,  7102, 11539, 16166,  4718,  4273,  7401,\n",
       "       14470], dtype=int64)"
      ]
     },
     "execution_count": 36,
     "metadata": {},
     "output_type": "execute_result"
    }
   ],
   "source": [
    "target[target[:, 0] == 176549][:, 1]  # таргет для 1 случайного юзера\n"
   ]
  },
  {
   "cell_type": "code",
   "execution_count": 37,
   "id": "0e2ccbe3",
   "metadata": {
    "ExecuteTime": {
     "end_time": "2022-11-16T13:17:04.175473Z",
     "start_time": "2022-11-16T13:17:04.163476Z"
    }
   },
   "outputs": [
    {
     "data": {
      "text/plain": [
       "array([[ 4151,  6353, 13865,  6327,  4880],\n",
       "       [  181,  6327,  4151,  1736,  4881],\n",
       "       [10440,  4880,  4881, 13865,  6327]], dtype=int64)"
      ]
     },
     "execution_count": 37,
     "metadata": {},
     "output_type": "execute_result"
    }
   ],
   "source": [
    "recs\n"
   ]
  },
  {
   "cell_type": "code",
   "execution_count": 38,
   "id": "e3fde59c-aee7-49ab-907c-13ada9319e25",
   "metadata": {
    "scrolled": true
   },
   "outputs": [
    {
     "data": {
      "text/plain": [
       "[57607, 403227, 70720]"
      ]
     },
     "execution_count": 38,
     "metadata": {},
     "output_type": "execute_result"
    }
   ],
   "source": [
    "sample_users"
   ]
  },
  {
   "cell_type": "markdown",
   "id": "83be378c",
   "metadata": {},
   "source": [
    "#### Напишем функцию расчета precision@k \"в лоб\""
   ]
  },
  {
   "cell_type": "code",
   "execution_count": 39,
   "id": "cd795c2a",
   "metadata": {
    "ExecuteTime": {
     "end_time": "2022-11-16T13:17:04.190474Z",
     "start_time": "2022-11-16T13:17:04.178474Z"
    }
   },
   "outputs": [],
   "source": [
    "def precision_naive(target, users, recs, k):\n",
    "    precision = []\n",
    "    for i, user in enumerate(users):\n",
    "        p = 0\n",
    "        user_target = target[target[:, 0] == user][:, 1]\n",
    "        for rec in recs[i]:\n",
    "            if rec in user_target:\n",
    "                p += 1\n",
    "        precision.append(p / k)\n",
    "    return sum(precision) / len(users)"
   ]
  },
  {
   "cell_type": "code",
   "execution_count": 40,
   "id": "68849e75",
   "metadata": {
    "ExecuteTime": {
     "end_time": "2022-11-16T13:17:04.206473Z",
     "start_time": "2022-11-16T13:17:04.193473Z"
    }
   },
   "outputs": [
    {
     "data": {
      "text/plain": [
       "0.4666666666666666"
      ]
     },
     "execution_count": 40,
     "metadata": {},
     "output_type": "execute_result"
    }
   ],
   "source": [
    "precision_naive(target, sample_users, recs, 5)"
   ]
  },
  {
   "cell_type": "markdown",
   "id": "1bed4832",
   "metadata": {},
   "source": [
    "#### Напишем реализацию функции с использованием pandas"
   ]
  },
  {
   "cell_type": "code",
   "execution_count": 41,
   "id": "eb34dfeb",
   "metadata": {
    "ExecuteTime": {
     "end_time": "2022-11-16T13:17:04.950473Z",
     "start_time": "2022-11-16T13:17:04.938474Z"
    }
   },
   "outputs": [],
   "source": [
    "def precision_pandas(df, users, recs, k):\n",
    "    df_recs = pd.DataFrame({\n",
    "        Columns.User: np.repeat(users, k),\n",
    "        Columns.Item: recs.ravel()\n",
    "    })\n",
    "    df_recs[Columns.Rank] = df_recs.groupby(Columns.User).cumcount() + 1\n",
    "    df_recs = df.merge(df_recs, how='left', left_on=Columns.UserItem, right_on=Columns.UserItem)\n",
    "    tp_k = f'TP@{k}'\n",
    "    df_recs[tp_k] = df_recs[Columns.Rank] < (k + 1)\n",
    "    p = df_recs[tp_k].sum() / k / len(users)\n",
    "    return p"
   ]
  },
  {
   "cell_type": "code",
   "execution_count": 42,
   "id": "b40cf2a1",
   "metadata": {
    "ExecuteTime": {
     "end_time": "2022-11-16T13:17:04.982472Z",
     "start_time": "2022-11-16T13:17:04.953476Z"
    }
   },
   "outputs": [
    {
     "data": {
      "text/plain": [
       "0.4666666666666666"
      ]
     },
     "execution_count": 42,
     "metadata": {},
     "output_type": "execute_result"
    }
   ],
   "source": [
    "precision_pandas(df, sample_users, recs, 5)"
   ]
  },
  {
   "cell_type": "markdown",
   "id": "1a2e1aab",
   "metadata": {},
   "source": [
    "#### Посмотрим через `timeit`"
   ]
  },
  {
   "cell_type": "code",
   "execution_count": 43,
   "id": "48a3a5a4",
   "metadata": {
    "ExecuteTime": {
     "end_time": "2022-11-16T13:17:11.668473Z",
     "start_time": "2022-11-16T13:17:04.986474Z"
    }
   },
   "outputs": [
    {
     "name": "stdout",
     "output_type": "stream",
     "text": [
      "34.3 ms ± 1.25 ms per loop (mean ± std. dev. of 7 runs, 10 loops each)\n"
     ]
    }
   ],
   "source": [
    "%timeit precision_naive(target, sample_users, recs, 5)"
   ]
  },
  {
   "cell_type": "code",
   "execution_count": 44,
   "id": "db0d4951",
   "metadata": {
    "ExecuteTime": {
     "end_time": "2022-11-16T13:17:19.748472Z",
     "start_time": "2022-11-16T13:17:16.982474Z"
    },
    "scrolled": true
   },
   "outputs": [
    {
     "name": "stdout",
     "output_type": "stream",
     "text": [
      "1.72 s ± 135 ms per loop (mean ± std. dev. of 7 runs, 1 loop each)\n"
     ]
    }
   ],
   "source": [
    "%timeit precision_pandas(df, sample_users, recs, 5)"
   ]
  },
  {
   "cell_type": "markdown",
   "id": "29d82e01",
   "metadata": {},
   "source": [
    "### Почему так произошло?"
   ]
  },
  {
   "cell_type": "markdown",
   "id": "5aff78a2",
   "metadata": {},
   "source": [
    "#### Попробуем взять больше данных"
   ]
  },
  {
   "cell_type": "code",
   "execution_count": 45,
   "id": "003c90fd",
   "metadata": {
    "ExecuteTime": {
     "end_time": "2022-11-16T13:17:19.763472Z",
     "start_time": "2022-11-16T13:17:19.751472Z"
    }
   },
   "outputs": [],
   "source": [
    "def generate_subsample(users_count, top_k):\n",
    "    users = np.random.choice(interactions[Columns.User].unique(), users_count, replace=False)\n",
    "    df = interactions[interactions[Columns.User].isin(users)].reset_index(drop=True)\n",
    "    del df[Columns.Datetime], df[Columns.Weight], df['watched_pct']\n",
    "    \n",
    "    recs = np.random.choice(df[Columns.Item], size=(users_count, top_k))\n",
    "    return df, users, recs"
   ]
  },
  {
   "cell_type": "code",
   "execution_count": 46,
   "id": "82302497",
   "metadata": {
    "ExecuteTime": {
     "end_time": "2022-11-16T13:17:19.981472Z",
     "start_time": "2022-11-16T13:17:19.766472Z"
    }
   },
   "outputs": [],
   "source": [
    "top_k = 10\n",
    "df, users, recs = generate_subsample(10000, top_k)\n",
    "target = df.values"
   ]
  },
  {
   "cell_type": "code",
   "execution_count": 47,
   "id": "5d5668ec-2ecd-41f9-a68d-1dce03fa46d2",
   "metadata": {},
   "outputs": [
    {
     "data": {
      "text/plain": [
       "array([628072,  15993, 470329, ..., 721843, 987818,  28484], dtype=int64)"
      ]
     },
     "execution_count": 47,
     "metadata": {},
     "output_type": "execute_result"
    }
   ],
   "source": [
    "users"
   ]
  },
  {
   "cell_type": "code",
   "execution_count": 48,
   "id": "3b2e6ed6",
   "metadata": {},
   "outputs": [
    {
     "data": {
      "text/plain": [
       "0.030479999999999865"
      ]
     },
     "execution_count": 48,
     "metadata": {},
     "output_type": "execute_result"
    }
   ],
   "source": [
    "precision_naive(target, users, recs, top_k)"
   ]
  },
  {
   "cell_type": "code",
   "execution_count": 49,
   "id": "ed196c27",
   "metadata": {
    "ExecuteTime": {
     "end_time": "2022-11-16T13:17:36.490476Z",
     "start_time": "2022-11-16T13:17:19.984472Z"
    }
   },
   "outputs": [
    {
     "name": "stdout",
     "output_type": "stream",
     "text": [
      "1.19 s ± 18.4 ms per loop (mean ± std. dev. of 7 runs, 1 loop each)\n"
     ]
    }
   ],
   "source": [
    "%timeit precision_naive(target, users, recs, top_k)"
   ]
  },
  {
   "cell_type": "code",
   "execution_count": 50,
   "id": "abad58dc",
   "metadata": {},
   "outputs": [
    {
     "data": {
      "text/plain": [
       "0.03048"
      ]
     },
     "execution_count": 50,
     "metadata": {},
     "output_type": "execute_result"
    }
   ],
   "source": [
    "precision_pandas(df, users, recs, top_k)"
   ]
  },
  {
   "cell_type": "code",
   "execution_count": 51,
   "id": "bb53a8f4",
   "metadata": {
    "ExecuteTime": {
     "end_time": "2022-11-16T13:17:47.065475Z",
     "start_time": "2022-11-16T13:17:44.257476Z"
    }
   },
   "outputs": [
    {
     "name": "stdout",
     "output_type": "stream",
     "text": [
      "41.4 ms ± 2.64 ms per loop (mean ± std. dev. of 7 runs, 10 loops each)\n"
     ]
    }
   ],
   "source": [
    "%timeit precision_pandas(df, users, recs, top_k)"
   ]
  },
  {
   "cell_type": "markdown",
   "id": "b8ee516b",
   "metadata": {},
   "source": [
    "\n",
    "## Homework Метрики и бейзлайны\n",
    "\n",
    "Добавьте реализацию метрик (по аналогии с Precision) MAP, Recall и применить к данным выше (из семинара), полученным с помощью generate_subsample\n",
    "\n",
    "k взять разным: 1, 5, 10\n",
    "\n",
    "На выходе - сравнение "
   ]
  },
  {
   "cell_type": "code",
   "execution_count": 52,
   "id": "1259d321-e07e-479f-8110-777aa5f27d16",
   "metadata": {},
   "outputs": [],
   "source": [
    "def recall_naive(target, users, recs, top_k):\n",
    "    recall = []\n",
    "    \n",
    "    for i, user in enumerate(users):\n",
    "        tp = 0 \n",
    "        user_target = target[target['user_id'] == user]['item_id'].values\n",
    "        user_target_set = set(user_target)\n",
    "        fn = len(user_target_set) \n",
    "        \n",
    "        for rec in recs[i][:top_k]:\n",
    "            if rec in user_target_set:\n",
    "                tp += 1\n",
    "                fn -= 1  \n",
    "        \n",
    "        recall.append(tp / (tp + fn))\n",
    "        \n",
    "    return sum(recall) / len(users)\n",
    "\n",
    "\n",
    "def recall_pandas(target, users, recs, top_k):\n",
    "    recall = []\n",
    "    target_grouped = target.groupby('user_id')['item_id'].apply(set).to_dict()\n",
    "    \n",
    "    for i, user in enumerate(users):\n",
    "        user_target_set = target_grouped.get(user, set())\n",
    "        tp = 0  \n",
    "        fn = len(user_target_set) \n",
    "        \n",
    "        for rec in recs[i][:top_k]:\n",
    "            if rec in user_target_set:\n",
    "                tp += 1\n",
    "                fn -= 1  \n",
    "        \n",
    "        if (tp + fn) > 0:\n",
    "            recall.append(tp / (tp + fn))\n",
    "        else:\n",
    "            recall.append(0)\n",
    "    \n",
    "    return sum(recall) / len(users)\n",
    "\n",
    "\n",
    "def map_naive(target, users, recs, top_k):\n",
    "    map_top_k = 0\n",
    "    \n",
    "    for i, user in enumerate(users):\n",
    "        user_target = target[target['user_id'] == user]['item_id'].values\n",
    "        user_target_set = set(user_target)\n",
    "        N_actual = len(user_target_set)\n",
    "        \n",
    "        if N_actual == 0:\n",
    "            continue\n",
    "        \n",
    "        ap_top_k = 0\n",
    "        tp = 0 \n",
    "        \n",
    "        for j, rec in enumerate(recs[i][:top_k]):\n",
    "            if rec in user_target_set:\n",
    "                tp += 1\n",
    "                precision = tp / (j + 1)\n",
    "                ap_top_k += precision\n",
    "        \n",
    "        ap_top_k /= N_actual\n",
    "        map_top_k += ap_top_k\n",
    "    \n",
    "    map_top_k /= len(users)\n",
    "    \n",
    "    return map_top_k\n",
    "\n",
    "\n",
    "def map_pandas(target, users, recs, top_k):\n",
    "    target_grouped = target.groupby('user_id')['item_id'].apply(set).to_dict()\n",
    "    map_top_k = 0\n",
    "    \n",
    "    for i, user in enumerate(users):\n",
    "        user_target_set = target_grouped.get(user, set())\n",
    "        N_actual = len(user_target_set)\n",
    "        \n",
    "        if N_actual == 0:\n",
    "            continue\n",
    "        \n",
    "        ap_top_k = 0\n",
    "        tp = 0  \n",
    "        \n",
    "        for j, rec in enumerate(recs[i][:top_k]):\n",
    "            if rec in user_target_set:\n",
    "                tp += 1\n",
    "                precision = tp / (j + 1)\n",
    "                ap_top_k += precision\n",
    "        \n",
    "        ap_top_k /= N_actual\n",
    "        map_top_k += ap_top_k\n",
    "    \n",
    "    map_top_k /= len(users)\n",
    "    \n",
    "    return map_top_k"
   ]
  },
  {
   "cell_type": "code",
   "execution_count": 53,
   "id": "e1f57bed",
   "metadata": {},
   "outputs": [
    {
     "name": "stdout",
     "output_type": "stream",
     "text": [
      "Comparison of the operating speed at k = 1 \n",
      "\n",
      "Recall naive:\n",
      "2.26 s ± 75.1 ms per loop (mean ± std. dev. of 7 runs, 1 loop each)\n",
      "0.007754560447563849\n",
      "Recall pandas:\n",
      "183 ms ± 4.19 ms per loop (mean ± std. dev. of 7 runs, 10 loops each)\n",
      "0.007754560447563849\n",
      "MAP naive:\n",
      "2.18 s ± 7.75 ms per loop (mean ± std. dev. of 7 runs, 1 loop each)\n",
      "0.007754560447563849\n",
      "MAP pandas:\n",
      "176 ms ± 910 µs per loop (mean ± std. dev. of 7 runs, 10 loops each)\n",
      "0.007754560447563849\n",
      "\n",
      "Comparison of the operating speed at k = 5 \n",
      "\n",
      "Recall naive:\n",
      "2.18 s ± 7.06 ms per loop (mean ± std. dev. of 7 runs, 1 loop each)\n",
      "0.045258914391980536\n",
      "Recall pandas:\n",
      "177 ms ± 764 µs per loop (mean ± std. dev. of 7 runs, 10 loops each)\n",
      "0.045258914391980536\n",
      "MAP naive:\n",
      "2.21 s ± 26.7 ms per loop (mean ± std. dev. of 7 runs, 1 loop each)\n",
      "0.021131369565755266\n",
      "MAP pandas:\n",
      "179 ms ± 1.52 ms per loop (mean ± std. dev. of 7 runs, 10 loops each)\n",
      "0.021131369565755266\n",
      "\n",
      "Comparison of the operating speed at k = 10 \n",
      "\n",
      "Recall naive:\n",
      "2.18 s ± 12.4 ms per loop (mean ± std. dev. of 7 runs, 1 loop each)\n",
      "0.09239959456366485\n",
      "Recall pandas:\n",
      "183 ms ± 4.68 ms per loop (mean ± std. dev. of 7 runs, 10 loops each)\n",
      "0.09239959456366485\n",
      "MAP naive:\n",
      "2.22 s ± 21.2 ms per loop (mean ± std. dev. of 7 runs, 1 loop each)\n",
      "0.029010930662099952\n",
      "MAP pandas:\n",
      "185 ms ± 4.78 ms per loop (mean ± std. dev. of 7 runs, 10 loops each)\n",
      "0.029010930662099952\n",
      "\n"
     ]
    }
   ],
   "source": [
    "for i in [1, 5, 10]:\n",
    "    print(f'Comparison of the operating speed at k = {i}', '\\n')\n",
    "    \n",
    "    print('Recall naive:')\n",
    "    %timeit recall_naive(df, users, recs, i)\n",
    "    print(recall_naive(df, users, recs, i))\n",
    "\n",
    "    print('Recall pandas:')\n",
    "    %timeit recall_pandas(df, users, recs, i)\n",
    "    print(recall_pandas(df, users, recs, i))\n",
    "\n",
    "    print('MAP naive:')\n",
    "    %timeit map_naive(df, users, recs, i)\n",
    "    print(map_naive(df, users, recs, i))\n",
    "\n",
    "    print('MAP pandas:')\n",
    "    %timeit map_pandas(df, users, recs, i)\n",
    "    print(map_pandas(df, users, recs, i))\n",
    "\n",
    "    print()\n"
   ]
  },
  {
   "cell_type": "code",
   "execution_count": 54,
   "id": "f5dbfd5b",
   "metadata": {},
   "outputs": [],
   "source": [
    "def dcg(recs, user_target_set, top_k):\n",
    "        return sum([1 / np.log2(i + 2) if rec in user_target_set else 0 for i, rec in enumerate(recs[:top_k])])\n",
    "\n",
    "\n",
    "def ndcg_naive(target, users, recs, top_k):\n",
    "    target_grouped = {}\n",
    "    \n",
    "    for row in target.itertuples(index=False):\n",
    "        user_id, item_id = row\n",
    "        \n",
    "        if user_id not in target_grouped:\n",
    "            target_grouped[user_id] = set()\n",
    "            \n",
    "        target_grouped[user_id].add(item_id)\n",
    "\n",
    "    ndcg_scores = []\n",
    "\n",
    "    for i, user in enumerate(users):\n",
    "        user_target_set = target_grouped.get(user, set())\n",
    "        if not user_target_set:\n",
    "            ndcg_scores.append(0)\n",
    "            continue\n",
    "\n",
    "        dcg_top_k = dcg(recs[i], user_target_set, top_k)\n",
    "        idcg_top_k = sum([1 / np.log2(i + 2) for i in range(min(len(user_target_set), top_k))])\n",
    "\n",
    "        if idcg_top_k == 0:\n",
    "            ndcg_scores.append(0)\n",
    "        else:\n",
    "            ndcg_scores.append(dcg_top_k / idcg_top_k)\n",
    "\n",
    "    return np.mean(ndcg_scores)\n",
    "\n",
    "\n",
    "def ndcg_pandas(target, users, recs, top_k):\n",
    "    target_grouped = target.groupby('user_id')['item_id'].apply(set).to_dict()\n",
    "    \n",
    "    ndcg_scores = []\n",
    "    \n",
    "    for i, user in enumerate(users):\n",
    "        user_target_set = target_grouped.get(user, set())\n",
    "        \n",
    "        if not user_target_set:\n",
    "            ndcg_scores.append(0)\n",
    "            continue\n",
    "        \n",
    "        dcg_top_k = dcg(recs[i], user_target_set, top_k)\n",
    "        idcg_top_k = sum([1 / np.log2(i + 2) for i in range(min(len(user_target_set), top_k))])\n",
    "        \n",
    "        if idcg_top_k == 0:\n",
    "            ndcg_scores.append(0)\n",
    "        else:\n",
    "            ndcg_scores.append(dcg_top_k / idcg_top_k)\n",
    "    \n",
    "    return np.mean(ndcg_scores)"
   ]
  },
  {
   "cell_type": "code",
   "execution_count": 56,
   "id": "fb9ebc92",
   "metadata": {},
   "outputs": [
    {
     "name": "stdout",
     "output_type": "stream",
     "text": [
      "Comparison of the nDCG operating speed at k = 1 \n",
      "\n",
      "nDCG naive:\n",
      "82.8 ms ± 2.21 ms per loop (mean ± std. dev. of 7 runs, 10 loops each)\n",
      "0.0289\n",
      "nDCG pandas:\n",
      "204 ms ± 2.7 ms per loop (mean ± std. dev. of 7 runs, 1 loop each)\n",
      "0.0289\n",
      "\n",
      "Comparison of the nDCG operating speed at k = 5 \n",
      "\n",
      "nDCG naive:\n",
      "108 ms ± 450 µs per loop (mean ± std. dev. of 7 runs, 10 loops each)\n",
      "0.04233065421928165\n",
      "nDCG pandas:\n",
      "235 ms ± 1.77 ms per loop (mean ± std. dev. of 7 runs, 1 loop each)\n",
      "0.04233065421928165\n",
      "\n",
      "Comparison of the nDCG operating speed at k = 10 \n",
      "\n",
      "nDCG naive:\n",
      "132 ms ± 3.71 ms per loop (mean ± std. dev. of 7 runs, 10 loops each)\n",
      "0.0584135481111055\n",
      "nDCG pandas:\n",
      "257 ms ± 6.03 ms per loop (mean ± std. dev. of 7 runs, 1 loop each)\n",
      "0.0584135481111055\n",
      "\n"
     ]
    }
   ],
   "source": [
    "for i in [1, 5, 10]:\n",
    "    print(f'Comparison of the nDCG operating speed at k = {i}', '\\n')\n",
    "    \n",
    "    print('nDCG naive:')\n",
    "    %timeit ndcg_naive(df, users, recs, i)\n",
    "    print(ndcg_naive(df, users, recs, i))\n",
    "    \n",
    "    print('nDCG pandas:')\n",
    "    %timeit ndcg_pandas(df, users, recs, i)\n",
    "    print(ndcg_pandas(df, users, recs, i))\n",
    "\n",
    "    print()"
   ]
  },
  {
   "cell_type": "markdown",
   "id": "f2e56f0c-b453-40ad-a3e8-520ba85b1814",
   "metadata": {},
   "source": [
    "### Критерии успеха\n",
    "\n",
    "- написана реализация хотя бы одной метрики (реализация \"в лоб\") - 1 балл\n",
    "- написаны функции для двух метрик в наивном виде - +2 балла\n",
    "- если одна метрика реализована двумя способами (наивный и с помощью pandas) +2 балла\n",
    "- обе метрики сделаны двумя способами +1 балла\n",
    "\n",
    "Bonus:\n",
    "- если самостоятельно изучите одну дополнительную метрику (HR/MNAP/NDCG/etc) и добавите реализацию двумя способами, то еще +2 балла"
   ]
  },
  {
   "cell_type": "code",
   "execution_count": null,
   "id": "377cd21e-51e6-4d44-8d7a-7293a103a829",
   "metadata": {},
   "outputs": [],
   "source": []
  }
 ],
 "metadata": {
  "kernelspec": {
   "display_name": "Python 3 (ipykernel)",
   "language": "python",
   "name": "python3"
  },
  "language_info": {
   "codemirror_mode": {
    "name": "ipython",
    "version": 3
   },
   "file_extension": ".py",
   "mimetype": "text/x-python",
   "name": "python",
   "nbconvert_exporter": "python",
   "pygments_lexer": "ipython3",
   "version": "3.11.5"
  },
  "toc": {
   "base_numbering": 1,
   "nav_menu": {},
   "number_sections": true,
   "sideBar": true,
   "skip_h1_title": true,
   "title_cell": "Table of Contents",
   "title_sidebar": "Contents",
   "toc_cell": false,
   "toc_position": {
    "height": "calc(100% - 180px)",
    "left": "10px",
    "top": "150px",
    "width": "221px"
   },
   "toc_section_display": true,
   "toc_window_display": true
  }
 },
 "nbformat": 4,
 "nbformat_minor": 5
}
